{
  "cells": [
    {
      "cell_type": "markdown",
      "id": "6add5123-8735-49ff-a8e2-52306c879231",
      "metadata": {
        "id": "6add5123-8735-49ff-a8e2-52306c879231"
      },
      "source": [
        "<h1 style='color: blue; font-size: 36px; font-weight: bold;'>TECH CHALLENGE - FASE 4 - APLICAÇÃO COM STREAMLIT</h1>"
      ]
    },
    {
      "cell_type": "markdown",
      "id": "bfdae154-39b6-440c-8143-9aa99d4a66bd",
      "metadata": {
        "id": "bfdae154-39b6-440c-8143-9aa99d4a66bd"
      },
      "source": [
        "# O Problema"
      ]
    },
    {
      "cell_type": "markdown",
      "id": "9d5a8fdc-48f6-4a78-b686-bf25862dee8c",
      "metadata": {
        "id": "9d5a8fdc-48f6-4a78-b686-bf25862dee8c"
      },
      "source": [
        "<p style='font-size: 18px; line-height: 2; text-align: justify;'>\n",
        "    Fomos contratados por um consultoria para analisar os dados de preço do petróleo brent. Um grande cliente do segmento pediu que a consultoria desenvolvesse um dashboard interativo e que gere insights relevantes para a tomada de decisão. Além disso, solicitaram que fosse desenvolvido um modelo de Machine Learning para fazer o forecasting do preço do petróleo."
      ]
    },
    {
      "cell_type": "markdown",
      "id": "cb9ea6f6-e1c0-432b-99b3-5e459e66770f",
      "metadata": {
        "id": "cb9ea6f6-e1c0-432b-99b3-5e459e66770f"
      },
      "source": [
        "# Objetivo"
      ]
    },
    {
      "cell_type": "markdown",
      "id": "e5211d4b-1299-48bf-95d8-043dd02f5563",
      "metadata": {
        "id": "e5211d4b-1299-48bf-95d8-043dd02f5563"
      },
      "source": [
        "<p style='font-size: 18px; line-height: 2; text-align: justify;'>\n",
        "    Nosso objetivo consiste em:\n",
        "\n",
        "<ul style='font-size: 18px; line-height: 2; text-align: justify;'>\n",
        "<li>Criar um dashboard interativo;</li>\n",
        "<li>Gerar um strorytelling que traga insights relevantes sobre a variação do preço do petróleo brent, como situações geopolíticas, crises econômicas, demanda global por energia e etc;</li>\n",
        "<li>Criar um modelo de Machine Learning que faça a previsão do preço do petróleo brent diariamente;</li>\n",
        "<li>Criar um plano para fazer o deploy do modelo em produção;</li>\n",
        "<li>Gerar um MVP (Minimum Viable Product) do modelo em produção por meio do Streamlit.</li>"
      ]
    },
    {
      "cell_type": "markdown",
      "id": "10bb3563-8922-44eb-8fd0-c78577754717",
      "metadata": {
        "id": "10bb3563-8922-44eb-8fd0-c78577754717"
      },
      "source": [
        "# Introdução"
      ]
    },
    {
      "cell_type": "markdown",
      "id": "82a5bf02-1b4d-4def-88ee-b80aea6f649c",
      "metadata": {
        "id": "82a5bf02-1b4d-4def-88ee-b80aea6f649c"
      },
      "source": [
        "## O que é o Ipea ?"
      ]
    },
    {
      "cell_type": "markdown",
      "id": "48c9cfc5-fbf0-4834-8fef-59336b4a67d6",
      "metadata": {
        "id": "48c9cfc5-fbf0-4834-8fef-59336b4a67d6"
      },
      "source": [
        "<p style='font-size: 18px; line-height: 2; text-align: justify;'>\n",
        "O Instituto de Pesquisa Econômica Aplicada (Ipea) é uma fundação pública federal vinculada ao Ministério do Planejamento e Orçamento. As atividades de pesquisa fornecem suporte técnico e institucional para as ações governamentais a fim de formular e reformular políticas públicas e programas de desenvolvimento. O Ipea disponibiliza seus trabalhos por meio de publicações eletrônicas, impressas, e eventos."
      ]
    },
    {
      "cell_type": "markdown",
      "id": "a8f9b729-e67a-4b3c-a01f-335359af5d4b",
      "metadata": {
        "id": "a8f9b729-e67a-4b3c-a01f-335359af5d4b"
      },
      "source": [
        "## O que é o Petróleo Brent ?"
      ]
    },
    {
      "cell_type": "markdown",
      "id": "c2e90482-f23e-4acc-a1b2-3a554337e8de",
      "metadata": {
        "id": "c2e90482-f23e-4acc-a1b2-3a554337e8de"
      },
      "source": [
        "<p style='font-size: 18px; line-height: 2; text-align: justify;'>\n",
        "O petróleo Brent, produzido no Mar do Norte, é um benchmark importante para o preço internacional do petróleo. Ele é avaliado pelo preço FOB (free on board), que não inclui despesas de frete e seguro. O Brent serve como referência para a precificação de diversos tipos de petróleo no mercado global."
      ]
    },
    {
      "cell_type": "markdown",
      "id": "4c952402-8654-4c4f-8911-790ebe8cf00f",
      "metadata": {
        "id": "4c952402-8654-4c4f-8911-790ebe8cf00f"
      },
      "source": [
        "# Obtenção dos Dados"
      ]
    },
    {
      "cell_type": "markdown",
      "id": "55f216b4-1223-4580-8d4d-2fd09de4ac92",
      "metadata": {
        "id": "55f216b4-1223-4580-8d4d-2fd09de4ac92"
      },
      "source": [
        "<p style='font-size: 18px; line-height: 2; text-align: justify;'>\n",
        "    Os dados foram obtidos no site do Instituto de Pesquisa Econômica Aplicada (Ipea) e podem ser acessados por meio do link:\n",
        "\n",
        "http://www.ipeadata.gov.br/ExibeSerie.aspx?module=m&serid=1650971490&oper=view"
      ]
    },
    {
      "cell_type": "markdown",
      "id": "f62d630f-de80-4e9b-9655-4f8a40a04886",
      "metadata": {
        "id": "f62d630f-de80-4e9b-9655-4f8a40a04886"
      },
      "source": [
        "# Apresentação dos Dados"
      ]
    },
    {
      "cell_type": "markdown",
      "id": "94afff09-6d4f-4553-866e-7080304ff85d",
      "metadata": {
        "id": "94afff09-6d4f-4553-866e-7080304ff85d"
      },
      "source": [
        "## Importanto Bibliotecas"
      ]
    },
    {
      "cell_type": "code",
      "execution_count": null,
      "id": "cf1963bb-2ff2-41e2-90f2-61a7bb0b88ae",
      "metadata": {
        "colab": {
          "base_uri": "https://localhost:8080/"
        },
        "id": "cf1963bb-2ff2-41e2-90f2-61a7bb0b88ae",
        "outputId": "08f77f95-a42c-490a-db0b-5fcc5de7fa90"
      },
      "outputs": [
        {
          "output_type": "stream",
          "name": "stdout",
          "text": [
            "Requirement already satisfied: pandas==2.2.3 in /usr/local/lib/python3.10/dist-packages (2.2.3)\n",
            "Requirement already satisfied: numpy>=1.22.4 in /usr/local/lib/python3.10/dist-packages (from pandas==2.2.3) (1.26.4)\n",
            "Requirement already satisfied: python-dateutil>=2.8.2 in /usr/local/lib/python3.10/dist-packages (from pandas==2.2.3) (2.8.2)\n",
            "Requirement already satisfied: pytz>=2020.1 in /usr/local/lib/python3.10/dist-packages (from pandas==2.2.3) (2024.2)\n",
            "Requirement already satisfied: tzdata>=2022.7 in /usr/local/lib/python3.10/dist-packages (from pandas==2.2.3) (2024.2)\n",
            "Requirement already satisfied: six>=1.5 in /usr/local/lib/python3.10/dist-packages (from python-dateutil>=2.8.2->pandas==2.2.3) (1.16.0)\n",
            "Requirement already satisfied: matplotlib==3.8.4 in /usr/local/lib/python3.10/dist-packages (3.8.4)\n",
            "Requirement already satisfied: contourpy>=1.0.1 in /usr/local/lib/python3.10/dist-packages (from matplotlib==3.8.4) (1.3.0)\n",
            "Requirement already satisfied: cycler>=0.10 in /usr/local/lib/python3.10/dist-packages (from matplotlib==3.8.4) (0.12.1)\n",
            "Requirement already satisfied: fonttools>=4.22.0 in /usr/local/lib/python3.10/dist-packages (from matplotlib==3.8.4) (4.54.1)\n",
            "Requirement already satisfied: kiwisolver>=1.3.1 in /usr/local/lib/python3.10/dist-packages (from matplotlib==3.8.4) (1.4.7)\n",
            "Requirement already satisfied: numpy>=1.21 in /usr/local/lib/python3.10/dist-packages (from matplotlib==3.8.4) (1.26.4)\n",
            "Requirement already satisfied: packaging>=20.0 in /usr/local/lib/python3.10/dist-packages (from matplotlib==3.8.4) (24.1)\n",
            "Requirement already satisfied: pillow>=8 in /usr/local/lib/python3.10/dist-packages (from matplotlib==3.8.4) (10.4.0)\n",
            "Requirement already satisfied: pyparsing>=2.3.1 in /usr/local/lib/python3.10/dist-packages (from matplotlib==3.8.4) (3.2.0)\n",
            "Requirement already satisfied: python-dateutil>=2.7 in /usr/local/lib/python3.10/dist-packages (from matplotlib==3.8.4) (2.8.2)\n",
            "Requirement already satisfied: six>=1.5 in /usr/local/lib/python3.10/dist-packages (from python-dateutil>=2.7->matplotlib==3.8.4) (1.16.0)\n",
            "Requirement already satisfied: numpy==1.26.4 in /usr/local/lib/python3.10/dist-packages (1.26.4)\n",
            "Requirement already satisfied: seaborn==0.12.2 in /usr/local/lib/python3.10/dist-packages (0.12.2)\n",
            "Requirement already satisfied: numpy!=1.24.0,>=1.17 in /usr/local/lib/python3.10/dist-packages (from seaborn==0.12.2) (1.26.4)\n",
            "Requirement already satisfied: pandas>=0.25 in /usr/local/lib/python3.10/dist-packages (from seaborn==0.12.2) (2.2.3)\n",
            "Requirement already satisfied: matplotlib!=3.6.1,>=3.1 in /usr/local/lib/python3.10/dist-packages (from seaborn==0.12.2) (3.8.4)\n",
            "Requirement already satisfied: contourpy>=1.0.1 in /usr/local/lib/python3.10/dist-packages (from matplotlib!=3.6.1,>=3.1->seaborn==0.12.2) (1.3.0)\n",
            "Requirement already satisfied: cycler>=0.10 in /usr/local/lib/python3.10/dist-packages (from matplotlib!=3.6.1,>=3.1->seaborn==0.12.2) (0.12.1)\n",
            "Requirement already satisfied: fonttools>=4.22.0 in /usr/local/lib/python3.10/dist-packages (from matplotlib!=3.6.1,>=3.1->seaborn==0.12.2) (4.54.1)\n",
            "Requirement already satisfied: kiwisolver>=1.3.1 in /usr/local/lib/python3.10/dist-packages (from matplotlib!=3.6.1,>=3.1->seaborn==0.12.2) (1.4.7)\n",
            "Requirement already satisfied: packaging>=20.0 in /usr/local/lib/python3.10/dist-packages (from matplotlib!=3.6.1,>=3.1->seaborn==0.12.2) (24.1)\n",
            "Requirement already satisfied: pillow>=8 in /usr/local/lib/python3.10/dist-packages (from matplotlib!=3.6.1,>=3.1->seaborn==0.12.2) (10.4.0)\n",
            "Requirement already satisfied: pyparsing>=2.3.1 in /usr/local/lib/python3.10/dist-packages (from matplotlib!=3.6.1,>=3.1->seaborn==0.12.2) (3.2.0)\n",
            "Requirement already satisfied: python-dateutil>=2.7 in /usr/local/lib/python3.10/dist-packages (from matplotlib!=3.6.1,>=3.1->seaborn==0.12.2) (2.8.2)\n",
            "Requirement already satisfied: pytz>=2020.1 in /usr/local/lib/python3.10/dist-packages (from pandas>=0.25->seaborn==0.12.2) (2024.2)\n",
            "Requirement already satisfied: tzdata>=2022.7 in /usr/local/lib/python3.10/dist-packages (from pandas>=0.25->seaborn==0.12.2) (2024.2)\n",
            "Requirement already satisfied: six>=1.5 in /usr/local/lib/python3.10/dist-packages (from python-dateutil>=2.7->matplotlib!=3.6.1,>=3.1->seaborn==0.12.2) (1.16.0)\n",
            "Requirement already satisfied: scikit-learn==1.2.2 in /usr/local/lib/python3.10/dist-packages (1.2.2)\n",
            "Requirement already satisfied: numpy>=1.17.3 in /usr/local/lib/python3.10/dist-packages (from scikit-learn==1.2.2) (1.26.4)\n",
            "Requirement already satisfied: scipy>=1.3.2 in /usr/local/lib/python3.10/dist-packages (from scikit-learn==1.2.2) (1.13.1)\n",
            "Requirement already satisfied: joblib>=1.1.1 in /usr/local/lib/python3.10/dist-packages (from scikit-learn==1.2.2) (1.4.2)\n",
            "Requirement already satisfied: threadpoolctl>=2.0.0 in /usr/local/lib/python3.10/dist-packages (from scikit-learn==1.2.2) (3.5.0)\n",
            "Requirement already satisfied: statsforecast in /usr/local/lib/python3.10/dist-packages (1.7.8)\n",
            "Requirement already satisfied: cloudpickle in /usr/local/lib/python3.10/dist-packages (from statsforecast) (3.1.0)\n",
            "Requirement already satisfied: coreforecast>=0.0.12 in /usr/local/lib/python3.10/dist-packages (from statsforecast) (0.0.13.1)\n",
            "Requirement already satisfied: numba>=0.55.0 in /usr/local/lib/python3.10/dist-packages (from statsforecast) (0.60.0)\n",
            "Requirement already satisfied: numpy>=1.21.6 in /usr/local/lib/python3.10/dist-packages (from statsforecast) (1.26.4)\n",
            "Requirement already satisfied: pandas>=1.3.5 in /usr/local/lib/python3.10/dist-packages (from statsforecast) (2.2.3)\n",
            "Requirement already satisfied: scipy>=1.7.3 in /usr/local/lib/python3.10/dist-packages (from statsforecast) (1.13.1)\n",
            "Requirement already satisfied: statsmodels>=0.13.2 in /usr/local/lib/python3.10/dist-packages (from statsforecast) (0.14.4)\n",
            "Requirement already satisfied: tqdm in /usr/local/lib/python3.10/dist-packages (from statsforecast) (4.66.5)\n",
            "Requirement already satisfied: fugue>=0.8.1 in /usr/local/lib/python3.10/dist-packages (from statsforecast) (0.9.1)\n",
            "Requirement already satisfied: utilsforecast>=0.1.4 in /usr/local/lib/python3.10/dist-packages (from statsforecast) (0.2.7)\n",
            "Requirement already satisfied: threadpoolctl>=3 in /usr/local/lib/python3.10/dist-packages (from statsforecast) (3.5.0)\n",
            "Requirement already satisfied: triad>=0.9.7 in /usr/local/lib/python3.10/dist-packages (from fugue>=0.8.1->statsforecast) (0.9.8)\n",
            "Requirement already satisfied: adagio>=0.2.4 in /usr/local/lib/python3.10/dist-packages (from fugue>=0.8.1->statsforecast) (0.2.6)\n",
            "Requirement already satisfied: llvmlite<0.44,>=0.43.0dev0 in /usr/local/lib/python3.10/dist-packages (from numba>=0.55.0->statsforecast) (0.43.0)\n",
            "Requirement already satisfied: python-dateutil>=2.8.2 in /usr/local/lib/python3.10/dist-packages (from pandas>=1.3.5->statsforecast) (2.8.2)\n",
            "Requirement already satisfied: pytz>=2020.1 in /usr/local/lib/python3.10/dist-packages (from pandas>=1.3.5->statsforecast) (2024.2)\n",
            "Requirement already satisfied: tzdata>=2022.7 in /usr/local/lib/python3.10/dist-packages (from pandas>=1.3.5->statsforecast) (2024.2)\n",
            "Requirement already satisfied: patsy>=0.5.6 in /usr/local/lib/python3.10/dist-packages (from statsmodels>=0.13.2->statsforecast) (0.5.6)\n",
            "Requirement already satisfied: packaging>=21.3 in /usr/local/lib/python3.10/dist-packages (from statsmodels>=0.13.2->statsforecast) (24.1)\n",
            "Requirement already satisfied: six in /usr/local/lib/python3.10/dist-packages (from patsy>=0.5.6->statsmodels>=0.13.2->statsforecast) (1.16.0)\n",
            "Requirement already satisfied: pyarrow>=6.0.1 in /usr/local/lib/python3.10/dist-packages (from triad>=0.9.7->fugue>=0.8.1->statsforecast) (16.1.0)\n",
            "Requirement already satisfied: fsspec>=2022.5.0 in /usr/local/lib/python3.10/dist-packages (from triad>=0.9.7->fugue>=0.8.1->statsforecast) (2024.6.1)\n",
            "Requirement already satisfied: fs in /usr/local/lib/python3.10/dist-packages (from triad>=0.9.7->fugue>=0.8.1->statsforecast) (2.4.16)\n",
            "Requirement already satisfied: appdirs~=1.4.3 in /usr/local/lib/python3.10/dist-packages (from fs->triad>=0.9.7->fugue>=0.8.1->statsforecast) (1.4.4)\n",
            "Requirement already satisfied: setuptools in /usr/local/lib/python3.10/dist-packages (from fs->triad>=0.9.7->fugue>=0.8.1->statsforecast) (75.1.0)\n",
            "Requirement already satisfied: dask[dataframe] in /usr/local/lib/python3.10/dist-packages (2024.8.2)\n",
            "Requirement already satisfied: click>=8.1 in /usr/local/lib/python3.10/dist-packages (from dask[dataframe]) (8.1.7)\n",
            "Requirement already satisfied: cloudpickle>=3.0.0 in /usr/local/lib/python3.10/dist-packages (from dask[dataframe]) (3.1.0)\n",
            "Requirement already satisfied: fsspec>=2021.09.0 in /usr/local/lib/python3.10/dist-packages (from dask[dataframe]) (2024.6.1)\n",
            "Requirement already satisfied: packaging>=20.0 in /usr/local/lib/python3.10/dist-packages (from dask[dataframe]) (24.1)\n",
            "Requirement already satisfied: partd>=1.4.0 in /usr/local/lib/python3.10/dist-packages (from dask[dataframe]) (1.4.2)\n",
            "Requirement already satisfied: pyyaml>=5.3.1 in /usr/local/lib/python3.10/dist-packages (from dask[dataframe]) (6.0.2)\n",
            "Requirement already satisfied: toolz>=0.10.0 in /usr/local/lib/python3.10/dist-packages (from dask[dataframe]) (0.12.1)\n",
            "Requirement already satisfied: importlib-metadata>=4.13.0 in /usr/local/lib/python3.10/dist-packages (from dask[dataframe]) (8.5.0)\n",
            "Requirement already satisfied: pandas>=2.0 in /usr/local/lib/python3.10/dist-packages (from dask[dataframe]) (2.2.3)\n",
            "Collecting dask-expr<1.2,>=1.1 (from dask[dataframe])\n",
            "  Downloading dask_expr-1.1.16-py3-none-any.whl.metadata (2.5 kB)\n",
            "INFO: pip is looking at multiple versions of dask-expr to determine which version is compatible with other requirements. This could take a while.\n",
            "  Downloading dask_expr-1.1.15-py3-none-any.whl.metadata (2.5 kB)\n",
            "  Downloading dask_expr-1.1.14-py3-none-any.whl.metadata (2.5 kB)\n",
            "  Downloading dask_expr-1.1.13-py3-none-any.whl.metadata (2.5 kB)\n",
            "Requirement already satisfied: pyarrow>=14.0.1 in /usr/local/lib/python3.10/dist-packages (from dask-expr<1.2,>=1.1->dask[dataframe]) (16.1.0)\n",
            "Requirement already satisfied: zipp>=3.20 in /usr/local/lib/python3.10/dist-packages (from importlib-metadata>=4.13.0->dask[dataframe]) (3.20.2)\n",
            "Requirement already satisfied: numpy>=1.22.4 in /usr/local/lib/python3.10/dist-packages (from pandas>=2.0->dask[dataframe]) (1.26.4)\n",
            "Requirement already satisfied: python-dateutil>=2.8.2 in /usr/local/lib/python3.10/dist-packages (from pandas>=2.0->dask[dataframe]) (2.8.2)\n",
            "Requirement already satisfied: pytz>=2020.1 in /usr/local/lib/python3.10/dist-packages (from pandas>=2.0->dask[dataframe]) (2024.2)\n",
            "Requirement already satisfied: tzdata>=2022.7 in /usr/local/lib/python3.10/dist-packages (from pandas>=2.0->dask[dataframe]) (2024.2)\n",
            "Requirement already satisfied: locket in /usr/local/lib/python3.10/dist-packages (from partd>=1.4.0->dask[dataframe]) (1.0.0)\n",
            "Requirement already satisfied: six>=1.5 in /usr/local/lib/python3.10/dist-packages (from python-dateutil>=2.8.2->pandas>=2.0->dask[dataframe]) (1.16.0)\n",
            "Downloading dask_expr-1.1.13-py3-none-any.whl (242 kB)\n",
            "\u001b[2K   \u001b[90m━━━━━━━━━━━━━━━━━━━━━━━━━━━━━━━━━━━━━━━━\u001b[0m \u001b[32m242.6/242.6 kB\u001b[0m \u001b[31m5.4 MB/s\u001b[0m eta \u001b[36m0:00:00\u001b[0m\n",
            "\u001b[?25hInstalling collected packages: dask-expr\n",
            "Successfully installed dask-expr-1.1.13\n"
          ]
        }
      ],
      "source": [
        "# Variáveis de Ambiente - Importe caso necessário\n",
        "\n",
        "!pip install pandas==2.2.3\n",
        "!pip install matplotlib==3.8.4\n",
        "!pip install numpy==1.26.4\n",
        "!pip install seaborn==0.12.2\n",
        "!pip install scikit-learn==1.2.2\n",
        "!pip install statsforecast\n",
        "!pip install dask[dataframe]\n"
      ]
    },
    {
      "cell_type": "code",
      "execution_count": null,
      "id": "eb437bf6-0049-4b7e-b259-ddbd25b4eff0",
      "metadata": {
        "id": "eb437bf6-0049-4b7e-b259-ddbd25b4eff0"
      },
      "outputs": [],
      "source": [
        "# Bibliotecas para Análise a Manipulação de Dados\n",
        "import pandas as pd\n",
        "import numpy as np\n",
        "import matplotlib.pyplot as plt\n",
        "import matplotlib.ticker as ticker\n",
        "import seaborn as sns\n",
        "import datetime\n",
        "import statsmodels.api as sm\n",
        "\n",
        "\n",
        "# Bibliotecas para Análise das Séries Temporais\n",
        "from statsmodels.tsa.seasonal import seasonal_decompose # Decomposição da Série Temporal\n",
        "from statsmodels.tsa.stattools import adfuller # Teste de Dickey-Fuller\n",
        "from statsmodels.tsa.stattools import acf, pacf # Análise de Autocorrelação e Autocorrelação Parcial\n",
        "from statsforecast import StatsForecast\n",
        "\n",
        "\n",
        "# Bibliotecas para Criação do Modelo\n",
        "from statsmodels.tsa.arima.model import ARIMA # ARIMA\n",
        "from sklearn.ensemble import GradientBoostingRegressor # Gradient Boosting\n",
        "from sklearn.preprocessing import MinMaxScaler\n",
        "from sklearn.model_selection import train_test_split\n",
        "\n",
        "# Importando a Métrica de Erro\n",
        "from sklearn.metrics import mean_absolute_error, mean_squared_error\n",
        "\n",
        "import warnings\n",
        "warnings.filterwarnings('ignore')\n",
        "\n",
        "sns.set_theme(style='white')\n",
        "%matplotlib inline"
      ]
    },
    {
      "cell_type": "markdown",
      "id": "ec212355-5545-4e9e-941b-23ef2e59107d",
      "metadata": {
        "id": "ec212355-5545-4e9e-941b-23ef2e59107d"
      },
      "source": [
        "## Visualização dos Dados"
      ]
    },
    {
      "cell_type": "code",
      "source": [
        "import pandas as pd\n",
        "dados = pd.read_csv('precos_petroleo_brent.csv', sep=';')\n",
        "dados.head()"
      ],
      "metadata": {
        "colab": {
          "base_uri": "https://localhost:8080/",
          "height": 206
        },
        "id": "SZurDe6z1OmS",
        "outputId": "88a772d4-d3ba-46da-c56b-02bb57488f58"
      },
      "id": "SZurDe6z1OmS",
      "execution_count": null,
      "outputs": [
        {
          "output_type": "execute_result",
          "data": {
            "text/plain": [
              "         data    preco\n",
              "0  22/04/2024   87,30 \n",
              "1  19/04/2024   87,96 \n",
              "2  18/04/2024   88,34 \n",
              "3  17/04/2024   89,54 \n",
              "4  16/04/2024   91,29 "
            ],
            "text/html": [
              "\n",
              "  <div id=\"df-a453b99e-f79b-48ee-ae70-ee95f447655c\" class=\"colab-df-container\">\n",
              "    <div>\n",
              "<style scoped>\n",
              "    .dataframe tbody tr th:only-of-type {\n",
              "        vertical-align: middle;\n",
              "    }\n",
              "\n",
              "    .dataframe tbody tr th {\n",
              "        vertical-align: top;\n",
              "    }\n",
              "\n",
              "    .dataframe thead th {\n",
              "        text-align: right;\n",
              "    }\n",
              "</style>\n",
              "<table border=\"1\" class=\"dataframe\">\n",
              "  <thead>\n",
              "    <tr style=\"text-align: right;\">\n",
              "      <th></th>\n",
              "      <th>data</th>\n",
              "      <th>preco</th>\n",
              "    </tr>\n",
              "  </thead>\n",
              "  <tbody>\n",
              "    <tr>\n",
              "      <th>0</th>\n",
              "      <td>22/04/2024</td>\n",
              "      <td>87,30</td>\n",
              "    </tr>\n",
              "    <tr>\n",
              "      <th>1</th>\n",
              "      <td>19/04/2024</td>\n",
              "      <td>87,96</td>\n",
              "    </tr>\n",
              "    <tr>\n",
              "      <th>2</th>\n",
              "      <td>18/04/2024</td>\n",
              "      <td>88,34</td>\n",
              "    </tr>\n",
              "    <tr>\n",
              "      <th>3</th>\n",
              "      <td>17/04/2024</td>\n",
              "      <td>89,54</td>\n",
              "    </tr>\n",
              "    <tr>\n",
              "      <th>4</th>\n",
              "      <td>16/04/2024</td>\n",
              "      <td>91,29</td>\n",
              "    </tr>\n",
              "  </tbody>\n",
              "</table>\n",
              "</div>\n",
              "    <div class=\"colab-df-buttons\">\n",
              "\n",
              "  <div class=\"colab-df-container\">\n",
              "    <button class=\"colab-df-convert\" onclick=\"convertToInteractive('df-a453b99e-f79b-48ee-ae70-ee95f447655c')\"\n",
              "            title=\"Convert this dataframe to an interactive table.\"\n",
              "            style=\"display:none;\">\n",
              "\n",
              "  <svg xmlns=\"http://www.w3.org/2000/svg\" height=\"24px\" viewBox=\"0 -960 960 960\">\n",
              "    <path d=\"M120-120v-720h720v720H120Zm60-500h600v-160H180v160Zm220 220h160v-160H400v160Zm0 220h160v-160H400v160ZM180-400h160v-160H180v160Zm440 0h160v-160H620v160ZM180-180h160v-160H180v160Zm440 0h160v-160H620v160Z\"/>\n",
              "  </svg>\n",
              "    </button>\n",
              "\n",
              "  <style>\n",
              "    .colab-df-container {\n",
              "      display:flex;\n",
              "      gap: 12px;\n",
              "    }\n",
              "\n",
              "    .colab-df-convert {\n",
              "      background-color: #E8F0FE;\n",
              "      border: none;\n",
              "      border-radius: 50%;\n",
              "      cursor: pointer;\n",
              "      display: none;\n",
              "      fill: #1967D2;\n",
              "      height: 32px;\n",
              "      padding: 0 0 0 0;\n",
              "      width: 32px;\n",
              "    }\n",
              "\n",
              "    .colab-df-convert:hover {\n",
              "      background-color: #E2EBFA;\n",
              "      box-shadow: 0px 1px 2px rgba(60, 64, 67, 0.3), 0px 1px 3px 1px rgba(60, 64, 67, 0.15);\n",
              "      fill: #174EA6;\n",
              "    }\n",
              "\n",
              "    .colab-df-buttons div {\n",
              "      margin-bottom: 4px;\n",
              "    }\n",
              "\n",
              "    [theme=dark] .colab-df-convert {\n",
              "      background-color: #3B4455;\n",
              "      fill: #D2E3FC;\n",
              "    }\n",
              "\n",
              "    [theme=dark] .colab-df-convert:hover {\n",
              "      background-color: #434B5C;\n",
              "      box-shadow: 0px 1px 3px 1px rgba(0, 0, 0, 0.15);\n",
              "      filter: drop-shadow(0px 1px 2px rgba(0, 0, 0, 0.3));\n",
              "      fill: #FFFFFF;\n",
              "    }\n",
              "  </style>\n",
              "\n",
              "    <script>\n",
              "      const buttonEl =\n",
              "        document.querySelector('#df-a453b99e-f79b-48ee-ae70-ee95f447655c button.colab-df-convert');\n",
              "      buttonEl.style.display =\n",
              "        google.colab.kernel.accessAllowed ? 'block' : 'none';\n",
              "\n",
              "      async function convertToInteractive(key) {\n",
              "        const element = document.querySelector('#df-a453b99e-f79b-48ee-ae70-ee95f447655c');\n",
              "        const dataTable =\n",
              "          await google.colab.kernel.invokeFunction('convertToInteractive',\n",
              "                                                    [key], {});\n",
              "        if (!dataTable) return;\n",
              "\n",
              "        const docLinkHtml = 'Like what you see? Visit the ' +\n",
              "          '<a target=\"_blank\" href=https://colab.research.google.com/notebooks/data_table.ipynb>data table notebook</a>'\n",
              "          + ' to learn more about interactive tables.';\n",
              "        element.innerHTML = '';\n",
              "        dataTable['output_type'] = 'display_data';\n",
              "        await google.colab.output.renderOutput(dataTable, element);\n",
              "        const docLink = document.createElement('div');\n",
              "        docLink.innerHTML = docLinkHtml;\n",
              "        element.appendChild(docLink);\n",
              "      }\n",
              "    </script>\n",
              "  </div>\n",
              "\n",
              "\n",
              "<div id=\"df-6a5297a3-c59c-4a6f-8657-8c70dc850341\">\n",
              "  <button class=\"colab-df-quickchart\" onclick=\"quickchart('df-6a5297a3-c59c-4a6f-8657-8c70dc850341')\"\n",
              "            title=\"Suggest charts\"\n",
              "            style=\"display:none;\">\n",
              "\n",
              "<svg xmlns=\"http://www.w3.org/2000/svg\" height=\"24px\"viewBox=\"0 0 24 24\"\n",
              "     width=\"24px\">\n",
              "    <g>\n",
              "        <path d=\"M19 3H5c-1.1 0-2 .9-2 2v14c0 1.1.9 2 2 2h14c1.1 0 2-.9 2-2V5c0-1.1-.9-2-2-2zM9 17H7v-7h2v7zm4 0h-2V7h2v10zm4 0h-2v-4h2v4z\"/>\n",
              "    </g>\n",
              "</svg>\n",
              "  </button>\n",
              "\n",
              "<style>\n",
              "  .colab-df-quickchart {\n",
              "      --bg-color: #E8F0FE;\n",
              "      --fill-color: #1967D2;\n",
              "      --hover-bg-color: #E2EBFA;\n",
              "      --hover-fill-color: #174EA6;\n",
              "      --disabled-fill-color: #AAA;\n",
              "      --disabled-bg-color: #DDD;\n",
              "  }\n",
              "\n",
              "  [theme=dark] .colab-df-quickchart {\n",
              "      --bg-color: #3B4455;\n",
              "      --fill-color: #D2E3FC;\n",
              "      --hover-bg-color: #434B5C;\n",
              "      --hover-fill-color: #FFFFFF;\n",
              "      --disabled-bg-color: #3B4455;\n",
              "      --disabled-fill-color: #666;\n",
              "  }\n",
              "\n",
              "  .colab-df-quickchart {\n",
              "    background-color: var(--bg-color);\n",
              "    border: none;\n",
              "    border-radius: 50%;\n",
              "    cursor: pointer;\n",
              "    display: none;\n",
              "    fill: var(--fill-color);\n",
              "    height: 32px;\n",
              "    padding: 0;\n",
              "    width: 32px;\n",
              "  }\n",
              "\n",
              "  .colab-df-quickchart:hover {\n",
              "    background-color: var(--hover-bg-color);\n",
              "    box-shadow: 0 1px 2px rgba(60, 64, 67, 0.3), 0 1px 3px 1px rgba(60, 64, 67, 0.15);\n",
              "    fill: var(--button-hover-fill-color);\n",
              "  }\n",
              "\n",
              "  .colab-df-quickchart-complete:disabled,\n",
              "  .colab-df-quickchart-complete:disabled:hover {\n",
              "    background-color: var(--disabled-bg-color);\n",
              "    fill: var(--disabled-fill-color);\n",
              "    box-shadow: none;\n",
              "  }\n",
              "\n",
              "  .colab-df-spinner {\n",
              "    border: 2px solid var(--fill-color);\n",
              "    border-color: transparent;\n",
              "    border-bottom-color: var(--fill-color);\n",
              "    animation:\n",
              "      spin 1s steps(1) infinite;\n",
              "  }\n",
              "\n",
              "  @keyframes spin {\n",
              "    0% {\n",
              "      border-color: transparent;\n",
              "      border-bottom-color: var(--fill-color);\n",
              "      border-left-color: var(--fill-color);\n",
              "    }\n",
              "    20% {\n",
              "      border-color: transparent;\n",
              "      border-left-color: var(--fill-color);\n",
              "      border-top-color: var(--fill-color);\n",
              "    }\n",
              "    30% {\n",
              "      border-color: transparent;\n",
              "      border-left-color: var(--fill-color);\n",
              "      border-top-color: var(--fill-color);\n",
              "      border-right-color: var(--fill-color);\n",
              "    }\n",
              "    40% {\n",
              "      border-color: transparent;\n",
              "      border-right-color: var(--fill-color);\n",
              "      border-top-color: var(--fill-color);\n",
              "    }\n",
              "    60% {\n",
              "      border-color: transparent;\n",
              "      border-right-color: var(--fill-color);\n",
              "    }\n",
              "    80% {\n",
              "      border-color: transparent;\n",
              "      border-right-color: var(--fill-color);\n",
              "      border-bottom-color: var(--fill-color);\n",
              "    }\n",
              "    90% {\n",
              "      border-color: transparent;\n",
              "      border-bottom-color: var(--fill-color);\n",
              "    }\n",
              "  }\n",
              "</style>\n",
              "\n",
              "  <script>\n",
              "    async function quickchart(key) {\n",
              "      const quickchartButtonEl =\n",
              "        document.querySelector('#' + key + ' button');\n",
              "      quickchartButtonEl.disabled = true;  // To prevent multiple clicks.\n",
              "      quickchartButtonEl.classList.add('colab-df-spinner');\n",
              "      try {\n",
              "        const charts = await google.colab.kernel.invokeFunction(\n",
              "            'suggestCharts', [key], {});\n",
              "      } catch (error) {\n",
              "        console.error('Error during call to suggestCharts:', error);\n",
              "      }\n",
              "      quickchartButtonEl.classList.remove('colab-df-spinner');\n",
              "      quickchartButtonEl.classList.add('colab-df-quickchart-complete');\n",
              "    }\n",
              "    (() => {\n",
              "      let quickchartButtonEl =\n",
              "        document.querySelector('#df-6a5297a3-c59c-4a6f-8657-8c70dc850341 button');\n",
              "      quickchartButtonEl.style.display =\n",
              "        google.colab.kernel.accessAllowed ? 'block' : 'none';\n",
              "    })();\n",
              "  </script>\n",
              "</div>\n",
              "\n",
              "    </div>\n",
              "  </div>\n"
            ],
            "application/vnd.google.colaboratory.intrinsic+json": {
              "type": "dataframe",
              "variable_name": "dados",
              "summary": "{\n  \"name\": \"dados\",\n  \"rows\": 11155,\n  \"fields\": [\n    {\n      \"column\": \"data\",\n      \"properties\": {\n        \"dtype\": \"object\",\n        \"num_unique_values\": 11155,\n        \"samples\": [\n          \"23/08/2011\",\n          \"06/04/1998\",\n          \"26/07/1995\"\n        ],\n        \"semantic_type\": \"\",\n        \"description\": \"\"\n      }\n    },\n    {\n      \"column\": \"preco\",\n      \"properties\": {\n        \"dtype\": \"category\",\n        \"num_unique_values\": 5236,\n        \"samples\": [\n          \" 85,85 \",\n          \" 77,66 \",\n          \" 117,36 \"\n        ],\n        \"semantic_type\": \"\",\n        \"description\": \"\"\n      }\n    }\n  ]\n}"
            }
          },
          "metadata": {},
          "execution_count": 5
        }
      ]
    },
    {
      "cell_type": "markdown",
      "id": "e7718856-920e-4ea6-8eed-75c36eb1ccf8",
      "metadata": {
        "id": "e7718856-920e-4ea6-8eed-75c36eb1ccf8"
      },
      "source": [
        "<p style='font-size: 18px; line-height: 2; text-align: justify;'>\n",
        "    Como podemos observar, em nosso DataFrame possuímos as seguintes colunas:\n",
        "\n",
        "<ul style='font-size: 18px; line-height: 2; text-align: justify;'>\n",
        "<li><b>data</b>: Intervalo de tempo, em dias úteis</li>\n",
        "<li><b>preco</b>: Preço por barril do petróleo bruto tipo Brent</li>"
      ]
    },
    {
      "cell_type": "code",
      "execution_count": null,
      "id": "a769a2b4-54e7-4882-9793-4fc580642bab",
      "metadata": {
        "id": "a769a2b4-54e7-4882-9793-4fc580642bab",
        "colab": {
          "base_uri": "https://localhost:8080/"
        },
        "outputId": "10166552-d6c1-45b4-d13c-bffe4c2d9c0b"
      },
      "outputs": [
        {
          "output_type": "execute_result",
          "data": {
            "text/plain": [
              "(11155, 2)"
            ]
          },
          "metadata": {},
          "execution_count": 6
        }
      ],
      "source": [
        "dados.shape"
      ]
    },
    {
      "cell_type": "code",
      "execution_count": null,
      "id": "1f18ebb7-4720-4eb5-beec-4f5b2a89de5b",
      "metadata": {
        "id": "1f18ebb7-4720-4eb5-beec-4f5b2a89de5b",
        "colab": {
          "base_uri": "https://localhost:8080/",
          "height": 147
        },
        "outputId": "200624d4-4742-43d2-ba3f-5c4bfb0547cb"
      },
      "outputs": [
        {
          "output_type": "execute_result",
          "data": {
            "text/plain": [
              "data     0\n",
              "preco    0\n",
              "dtype: int64"
            ],
            "text/html": [
              "<div>\n",
              "<style scoped>\n",
              "    .dataframe tbody tr th:only-of-type {\n",
              "        vertical-align: middle;\n",
              "    }\n",
              "\n",
              "    .dataframe tbody tr th {\n",
              "        vertical-align: top;\n",
              "    }\n",
              "\n",
              "    .dataframe thead th {\n",
              "        text-align: right;\n",
              "    }\n",
              "</style>\n",
              "<table border=\"1\" class=\"dataframe\">\n",
              "  <thead>\n",
              "    <tr style=\"text-align: right;\">\n",
              "      <th></th>\n",
              "      <th>0</th>\n",
              "    </tr>\n",
              "  </thead>\n",
              "  <tbody>\n",
              "    <tr>\n",
              "      <th>data</th>\n",
              "      <td>0</td>\n",
              "    </tr>\n",
              "    <tr>\n",
              "      <th>preco</th>\n",
              "      <td>0</td>\n",
              "    </tr>\n",
              "  </tbody>\n",
              "</table>\n",
              "</div><br><label><b>dtype:</b> int64</label>"
            ]
          },
          "metadata": {},
          "execution_count": 7
        }
      ],
      "source": [
        "dados.isna().sum()"
      ]
    },
    {
      "cell_type": "code",
      "execution_count": null,
      "id": "63df55d3-a3eb-496e-b918-8cf290e117da",
      "metadata": {
        "id": "63df55d3-a3eb-496e-b918-8cf290e117da",
        "colab": {
          "base_uri": "https://localhost:8080/",
          "height": 424
        },
        "outputId": "45d0e971-d84e-4f48-f5c3-dcfdabf346bb"
      },
      "outputs": [
        {
          "output_type": "execute_result",
          "data": {
            "text/plain": [
              "            data  preco\n",
              "0     2024-04-22  87.30\n",
              "1     2024-04-19  87.96\n",
              "2     2024-04-18  88.34\n",
              "3     2024-04-17  89.54\n",
              "4     2024-04-16  91.29\n",
              "...          ...    ...\n",
              "11150 1987-05-26  18.63\n",
              "11151 1987-05-25  18.60\n",
              "11152 1987-05-22  18.55\n",
              "11153 1987-05-21  18.45\n",
              "11154 1987-05-20  18.63\n",
              "\n",
              "[11155 rows x 2 columns]"
            ],
            "text/html": [
              "\n",
              "  <div id=\"df-2ebe1f95-0eb2-4b00-ba69-cf251485ce26\" class=\"colab-df-container\">\n",
              "    <div>\n",
              "<style scoped>\n",
              "    .dataframe tbody tr th:only-of-type {\n",
              "        vertical-align: middle;\n",
              "    }\n",
              "\n",
              "    .dataframe tbody tr th {\n",
              "        vertical-align: top;\n",
              "    }\n",
              "\n",
              "    .dataframe thead th {\n",
              "        text-align: right;\n",
              "    }\n",
              "</style>\n",
              "<table border=\"1\" class=\"dataframe\">\n",
              "  <thead>\n",
              "    <tr style=\"text-align: right;\">\n",
              "      <th></th>\n",
              "      <th>data</th>\n",
              "      <th>preco</th>\n",
              "    </tr>\n",
              "  </thead>\n",
              "  <tbody>\n",
              "    <tr>\n",
              "      <th>0</th>\n",
              "      <td>2024-04-22</td>\n",
              "      <td>87.30</td>\n",
              "    </tr>\n",
              "    <tr>\n",
              "      <th>1</th>\n",
              "      <td>2024-04-19</td>\n",
              "      <td>87.96</td>\n",
              "    </tr>\n",
              "    <tr>\n",
              "      <th>2</th>\n",
              "      <td>2024-04-18</td>\n",
              "      <td>88.34</td>\n",
              "    </tr>\n",
              "    <tr>\n",
              "      <th>3</th>\n",
              "      <td>2024-04-17</td>\n",
              "      <td>89.54</td>\n",
              "    </tr>\n",
              "    <tr>\n",
              "      <th>4</th>\n",
              "      <td>2024-04-16</td>\n",
              "      <td>91.29</td>\n",
              "    </tr>\n",
              "    <tr>\n",
              "      <th>...</th>\n",
              "      <td>...</td>\n",
              "      <td>...</td>\n",
              "    </tr>\n",
              "    <tr>\n",
              "      <th>11150</th>\n",
              "      <td>1987-05-26</td>\n",
              "      <td>18.63</td>\n",
              "    </tr>\n",
              "    <tr>\n",
              "      <th>11151</th>\n",
              "      <td>1987-05-25</td>\n",
              "      <td>18.60</td>\n",
              "    </tr>\n",
              "    <tr>\n",
              "      <th>11152</th>\n",
              "      <td>1987-05-22</td>\n",
              "      <td>18.55</td>\n",
              "    </tr>\n",
              "    <tr>\n",
              "      <th>11153</th>\n",
              "      <td>1987-05-21</td>\n",
              "      <td>18.45</td>\n",
              "    </tr>\n",
              "    <tr>\n",
              "      <th>11154</th>\n",
              "      <td>1987-05-20</td>\n",
              "      <td>18.63</td>\n",
              "    </tr>\n",
              "  </tbody>\n",
              "</table>\n",
              "<p>11155 rows × 2 columns</p>\n",
              "</div>\n",
              "    <div class=\"colab-df-buttons\">\n",
              "\n",
              "  <div class=\"colab-df-container\">\n",
              "    <button class=\"colab-df-convert\" onclick=\"convertToInteractive('df-2ebe1f95-0eb2-4b00-ba69-cf251485ce26')\"\n",
              "            title=\"Convert this dataframe to an interactive table.\"\n",
              "            style=\"display:none;\">\n",
              "\n",
              "  <svg xmlns=\"http://www.w3.org/2000/svg\" height=\"24px\" viewBox=\"0 -960 960 960\">\n",
              "    <path d=\"M120-120v-720h720v720H120Zm60-500h600v-160H180v160Zm220 220h160v-160H400v160Zm0 220h160v-160H400v160ZM180-400h160v-160H180v160Zm440 0h160v-160H620v160ZM180-180h160v-160H180v160Zm440 0h160v-160H620v160Z\"/>\n",
              "  </svg>\n",
              "    </button>\n",
              "\n",
              "  <style>\n",
              "    .colab-df-container {\n",
              "      display:flex;\n",
              "      gap: 12px;\n",
              "    }\n",
              "\n",
              "    .colab-df-convert {\n",
              "      background-color: #E8F0FE;\n",
              "      border: none;\n",
              "      border-radius: 50%;\n",
              "      cursor: pointer;\n",
              "      display: none;\n",
              "      fill: #1967D2;\n",
              "      height: 32px;\n",
              "      padding: 0 0 0 0;\n",
              "      width: 32px;\n",
              "    }\n",
              "\n",
              "    .colab-df-convert:hover {\n",
              "      background-color: #E2EBFA;\n",
              "      box-shadow: 0px 1px 2px rgba(60, 64, 67, 0.3), 0px 1px 3px 1px rgba(60, 64, 67, 0.15);\n",
              "      fill: #174EA6;\n",
              "    }\n",
              "\n",
              "    .colab-df-buttons div {\n",
              "      margin-bottom: 4px;\n",
              "    }\n",
              "\n",
              "    [theme=dark] .colab-df-convert {\n",
              "      background-color: #3B4455;\n",
              "      fill: #D2E3FC;\n",
              "    }\n",
              "\n",
              "    [theme=dark] .colab-df-convert:hover {\n",
              "      background-color: #434B5C;\n",
              "      box-shadow: 0px 1px 3px 1px rgba(0, 0, 0, 0.15);\n",
              "      filter: drop-shadow(0px 1px 2px rgba(0, 0, 0, 0.3));\n",
              "      fill: #FFFFFF;\n",
              "    }\n",
              "  </style>\n",
              "\n",
              "    <script>\n",
              "      const buttonEl =\n",
              "        document.querySelector('#df-2ebe1f95-0eb2-4b00-ba69-cf251485ce26 button.colab-df-convert');\n",
              "      buttonEl.style.display =\n",
              "        google.colab.kernel.accessAllowed ? 'block' : 'none';\n",
              "\n",
              "      async function convertToInteractive(key) {\n",
              "        const element = document.querySelector('#df-2ebe1f95-0eb2-4b00-ba69-cf251485ce26');\n",
              "        const dataTable =\n",
              "          await google.colab.kernel.invokeFunction('convertToInteractive',\n",
              "                                                    [key], {});\n",
              "        if (!dataTable) return;\n",
              "\n",
              "        const docLinkHtml = 'Like what you see? Visit the ' +\n",
              "          '<a target=\"_blank\" href=https://colab.research.google.com/notebooks/data_table.ipynb>data table notebook</a>'\n",
              "          + ' to learn more about interactive tables.';\n",
              "        element.innerHTML = '';\n",
              "        dataTable['output_type'] = 'display_data';\n",
              "        await google.colab.output.renderOutput(dataTable, element);\n",
              "        const docLink = document.createElement('div');\n",
              "        docLink.innerHTML = docLinkHtml;\n",
              "        element.appendChild(docLink);\n",
              "      }\n",
              "    </script>\n",
              "  </div>\n",
              "\n",
              "\n",
              "<div id=\"df-83502f36-da43-4d16-b8c2-c111c5e77afe\">\n",
              "  <button class=\"colab-df-quickchart\" onclick=\"quickchart('df-83502f36-da43-4d16-b8c2-c111c5e77afe')\"\n",
              "            title=\"Suggest charts\"\n",
              "            style=\"display:none;\">\n",
              "\n",
              "<svg xmlns=\"http://www.w3.org/2000/svg\" height=\"24px\"viewBox=\"0 0 24 24\"\n",
              "     width=\"24px\">\n",
              "    <g>\n",
              "        <path d=\"M19 3H5c-1.1 0-2 .9-2 2v14c0 1.1.9 2 2 2h14c1.1 0 2-.9 2-2V5c0-1.1-.9-2-2-2zM9 17H7v-7h2v7zm4 0h-2V7h2v10zm4 0h-2v-4h2v4z\"/>\n",
              "    </g>\n",
              "</svg>\n",
              "  </button>\n",
              "\n",
              "<style>\n",
              "  .colab-df-quickchart {\n",
              "      --bg-color: #E8F0FE;\n",
              "      --fill-color: #1967D2;\n",
              "      --hover-bg-color: #E2EBFA;\n",
              "      --hover-fill-color: #174EA6;\n",
              "      --disabled-fill-color: #AAA;\n",
              "      --disabled-bg-color: #DDD;\n",
              "  }\n",
              "\n",
              "  [theme=dark] .colab-df-quickchart {\n",
              "      --bg-color: #3B4455;\n",
              "      --fill-color: #D2E3FC;\n",
              "      --hover-bg-color: #434B5C;\n",
              "      --hover-fill-color: #FFFFFF;\n",
              "      --disabled-bg-color: #3B4455;\n",
              "      --disabled-fill-color: #666;\n",
              "  }\n",
              "\n",
              "  .colab-df-quickchart {\n",
              "    background-color: var(--bg-color);\n",
              "    border: none;\n",
              "    border-radius: 50%;\n",
              "    cursor: pointer;\n",
              "    display: none;\n",
              "    fill: var(--fill-color);\n",
              "    height: 32px;\n",
              "    padding: 0;\n",
              "    width: 32px;\n",
              "  }\n",
              "\n",
              "  .colab-df-quickchart:hover {\n",
              "    background-color: var(--hover-bg-color);\n",
              "    box-shadow: 0 1px 2px rgba(60, 64, 67, 0.3), 0 1px 3px 1px rgba(60, 64, 67, 0.15);\n",
              "    fill: var(--button-hover-fill-color);\n",
              "  }\n",
              "\n",
              "  .colab-df-quickchart-complete:disabled,\n",
              "  .colab-df-quickchart-complete:disabled:hover {\n",
              "    background-color: var(--disabled-bg-color);\n",
              "    fill: var(--disabled-fill-color);\n",
              "    box-shadow: none;\n",
              "  }\n",
              "\n",
              "  .colab-df-spinner {\n",
              "    border: 2px solid var(--fill-color);\n",
              "    border-color: transparent;\n",
              "    border-bottom-color: var(--fill-color);\n",
              "    animation:\n",
              "      spin 1s steps(1) infinite;\n",
              "  }\n",
              "\n",
              "  @keyframes spin {\n",
              "    0% {\n",
              "      border-color: transparent;\n",
              "      border-bottom-color: var(--fill-color);\n",
              "      border-left-color: var(--fill-color);\n",
              "    }\n",
              "    20% {\n",
              "      border-color: transparent;\n",
              "      border-left-color: var(--fill-color);\n",
              "      border-top-color: var(--fill-color);\n",
              "    }\n",
              "    30% {\n",
              "      border-color: transparent;\n",
              "      border-left-color: var(--fill-color);\n",
              "      border-top-color: var(--fill-color);\n",
              "      border-right-color: var(--fill-color);\n",
              "    }\n",
              "    40% {\n",
              "      border-color: transparent;\n",
              "      border-right-color: var(--fill-color);\n",
              "      border-top-color: var(--fill-color);\n",
              "    }\n",
              "    60% {\n",
              "      border-color: transparent;\n",
              "      border-right-color: var(--fill-color);\n",
              "    }\n",
              "    80% {\n",
              "      border-color: transparent;\n",
              "      border-right-color: var(--fill-color);\n",
              "      border-bottom-color: var(--fill-color);\n",
              "    }\n",
              "    90% {\n",
              "      border-color: transparent;\n",
              "      border-bottom-color: var(--fill-color);\n",
              "    }\n",
              "  }\n",
              "</style>\n",
              "\n",
              "  <script>\n",
              "    async function quickchart(key) {\n",
              "      const quickchartButtonEl =\n",
              "        document.querySelector('#' + key + ' button');\n",
              "      quickchartButtonEl.disabled = true;  // To prevent multiple clicks.\n",
              "      quickchartButtonEl.classList.add('colab-df-spinner');\n",
              "      try {\n",
              "        const charts = await google.colab.kernel.invokeFunction(\n",
              "            'suggestCharts', [key], {});\n",
              "      } catch (error) {\n",
              "        console.error('Error during call to suggestCharts:', error);\n",
              "      }\n",
              "      quickchartButtonEl.classList.remove('colab-df-spinner');\n",
              "      quickchartButtonEl.classList.add('colab-df-quickchart-complete');\n",
              "    }\n",
              "    (() => {\n",
              "      let quickchartButtonEl =\n",
              "        document.querySelector('#df-83502f36-da43-4d16-b8c2-c111c5e77afe button');\n",
              "      quickchartButtonEl.style.display =\n",
              "        google.colab.kernel.accessAllowed ? 'block' : 'none';\n",
              "    })();\n",
              "  </script>\n",
              "</div>\n",
              "\n",
              "    </div>\n",
              "  </div>\n"
            ],
            "application/vnd.google.colaboratory.intrinsic+json": {
              "type": "dataframe",
              "summary": "{\n  \"name\": \"dados\",\n  \"rows\": 11155,\n  \"fields\": [\n    {\n      \"column\": \"data\",\n      \"properties\": {\n        \"dtype\": \"date\",\n        \"min\": \"1987-05-20 00:00:00\",\n        \"max\": \"2024-04-22 00:00:00\",\n        \"num_unique_values\": 11155,\n        \"samples\": [\n          \"2011-08-23 00:00:00\",\n          \"1998-04-06 00:00:00\",\n          \"1995-07-26 00:00:00\"\n        ],\n        \"semantic_type\": \"\",\n        \"description\": \"\"\n      }\n    },\n    {\n      \"column\": \"preco\",\n      \"properties\": {\n        \"dtype\": \"number\",\n        \"std\": 33.22861607965258,\n        \"min\": 9.1,\n        \"max\": 143.95,\n        \"num_unique_values\": 5236,\n        \"samples\": [\n          85.85,\n          77.66,\n          117.36\n        ],\n        \"semantic_type\": \"\",\n        \"description\": \"\"\n      }\n    }\n  ]\n}"
            }
          },
          "metadata": {},
          "execution_count": 14
        }
      ],
      "source": [
        "dados.infer_objects()"
      ]
    },
    {
      "cell_type": "markdown",
      "id": "664f4741-90a8-4ede-adba-51e8907147c6",
      "metadata": {
        "id": "664f4741-90a8-4ede-adba-51e8907147c6"
      },
      "source": [
        "<p style='font-size: 18px; line-height: 2; text-align: justify;'>\n",
        "    As colunas estão com o tipo de dado \"object\", o que neste caso não nos ajuda para a criação de um modelo de Machine Learning."
      ]
    },
    {
      "cell_type": "markdown",
      "id": "c46a9b12-fc84-4b20-a224-781f309fd8ec",
      "metadata": {
        "id": "c46a9b12-fc84-4b20-a224-781f309fd8ec"
      },
      "source": [
        "## Tratamento dos Dados"
      ]
    },
    {
      "cell_type": "code",
      "execution_count": null,
      "id": "bc026c69-301a-476c-990f-0e2e7e310fd1",
      "metadata": {
        "id": "bc026c69-301a-476c-990f-0e2e7e310fd1",
        "colab": {
          "base_uri": "https://localhost:8080/",
          "height": 206
        },
        "outputId": "f9edb675-32c2-4bad-e267-fac3d232b28b"
      },
      "outputs": [
        {
          "output_type": "execute_result",
          "data": {
            "text/plain": [
              "        data  preco\n",
              "0 2024-04-22  87.30\n",
              "1 2024-04-19  87.96\n",
              "2 2024-04-18  88.34\n",
              "3 2024-04-17  89.54\n",
              "4 2024-04-16  91.29"
            ],
            "text/html": [
              "\n",
              "  <div id=\"df-21f51a5c-eab3-4962-bd97-a55ddc83039d\" class=\"colab-df-container\">\n",
              "    <div>\n",
              "<style scoped>\n",
              "    .dataframe tbody tr th:only-of-type {\n",
              "        vertical-align: middle;\n",
              "    }\n",
              "\n",
              "    .dataframe tbody tr th {\n",
              "        vertical-align: top;\n",
              "    }\n",
              "\n",
              "    .dataframe thead th {\n",
              "        text-align: right;\n",
              "    }\n",
              "</style>\n",
              "<table border=\"1\" class=\"dataframe\">\n",
              "  <thead>\n",
              "    <tr style=\"text-align: right;\">\n",
              "      <th></th>\n",
              "      <th>data</th>\n",
              "      <th>preco</th>\n",
              "    </tr>\n",
              "  </thead>\n",
              "  <tbody>\n",
              "    <tr>\n",
              "      <th>0</th>\n",
              "      <td>2024-04-22</td>\n",
              "      <td>87.30</td>\n",
              "    </tr>\n",
              "    <tr>\n",
              "      <th>1</th>\n",
              "      <td>2024-04-19</td>\n",
              "      <td>87.96</td>\n",
              "    </tr>\n",
              "    <tr>\n",
              "      <th>2</th>\n",
              "      <td>2024-04-18</td>\n",
              "      <td>88.34</td>\n",
              "    </tr>\n",
              "    <tr>\n",
              "      <th>3</th>\n",
              "      <td>2024-04-17</td>\n",
              "      <td>89.54</td>\n",
              "    </tr>\n",
              "    <tr>\n",
              "      <th>4</th>\n",
              "      <td>2024-04-16</td>\n",
              "      <td>91.29</td>\n",
              "    </tr>\n",
              "  </tbody>\n",
              "</table>\n",
              "</div>\n",
              "    <div class=\"colab-df-buttons\">\n",
              "\n",
              "  <div class=\"colab-df-container\">\n",
              "    <button class=\"colab-df-convert\" onclick=\"convertToInteractive('df-21f51a5c-eab3-4962-bd97-a55ddc83039d')\"\n",
              "            title=\"Convert this dataframe to an interactive table.\"\n",
              "            style=\"display:none;\">\n",
              "\n",
              "  <svg xmlns=\"http://www.w3.org/2000/svg\" height=\"24px\" viewBox=\"0 -960 960 960\">\n",
              "    <path d=\"M120-120v-720h720v720H120Zm60-500h600v-160H180v160Zm220 220h160v-160H400v160Zm0 220h160v-160H400v160ZM180-400h160v-160H180v160Zm440 0h160v-160H620v160ZM180-180h160v-160H180v160Zm440 0h160v-160H620v160Z\"/>\n",
              "  </svg>\n",
              "    </button>\n",
              "\n",
              "  <style>\n",
              "    .colab-df-container {\n",
              "      display:flex;\n",
              "      gap: 12px;\n",
              "    }\n",
              "\n",
              "    .colab-df-convert {\n",
              "      background-color: #E8F0FE;\n",
              "      border: none;\n",
              "      border-radius: 50%;\n",
              "      cursor: pointer;\n",
              "      display: none;\n",
              "      fill: #1967D2;\n",
              "      height: 32px;\n",
              "      padding: 0 0 0 0;\n",
              "      width: 32px;\n",
              "    }\n",
              "\n",
              "    .colab-df-convert:hover {\n",
              "      background-color: #E2EBFA;\n",
              "      box-shadow: 0px 1px 2px rgba(60, 64, 67, 0.3), 0px 1px 3px 1px rgba(60, 64, 67, 0.15);\n",
              "      fill: #174EA6;\n",
              "    }\n",
              "\n",
              "    .colab-df-buttons div {\n",
              "      margin-bottom: 4px;\n",
              "    }\n",
              "\n",
              "    [theme=dark] .colab-df-convert {\n",
              "      background-color: #3B4455;\n",
              "      fill: #D2E3FC;\n",
              "    }\n",
              "\n",
              "    [theme=dark] .colab-df-convert:hover {\n",
              "      background-color: #434B5C;\n",
              "      box-shadow: 0px 1px 3px 1px rgba(0, 0, 0, 0.15);\n",
              "      filter: drop-shadow(0px 1px 2px rgba(0, 0, 0, 0.3));\n",
              "      fill: #FFFFFF;\n",
              "    }\n",
              "  </style>\n",
              "\n",
              "    <script>\n",
              "      const buttonEl =\n",
              "        document.querySelector('#df-21f51a5c-eab3-4962-bd97-a55ddc83039d button.colab-df-convert');\n",
              "      buttonEl.style.display =\n",
              "        google.colab.kernel.accessAllowed ? 'block' : 'none';\n",
              "\n",
              "      async function convertToInteractive(key) {\n",
              "        const element = document.querySelector('#df-21f51a5c-eab3-4962-bd97-a55ddc83039d');\n",
              "        const dataTable =\n",
              "          await google.colab.kernel.invokeFunction('convertToInteractive',\n",
              "                                                    [key], {});\n",
              "        if (!dataTable) return;\n",
              "\n",
              "        const docLinkHtml = 'Like what you see? Visit the ' +\n",
              "          '<a target=\"_blank\" href=https://colab.research.google.com/notebooks/data_table.ipynb>data table notebook</a>'\n",
              "          + ' to learn more about interactive tables.';\n",
              "        element.innerHTML = '';\n",
              "        dataTable['output_type'] = 'display_data';\n",
              "        await google.colab.output.renderOutput(dataTable, element);\n",
              "        const docLink = document.createElement('div');\n",
              "        docLink.innerHTML = docLinkHtml;\n",
              "        element.appendChild(docLink);\n",
              "      }\n",
              "    </script>\n",
              "  </div>\n",
              "\n",
              "\n",
              "<div id=\"df-7a66541c-6ac5-4b6c-bf45-e2137db8714c\">\n",
              "  <button class=\"colab-df-quickchart\" onclick=\"quickchart('df-7a66541c-6ac5-4b6c-bf45-e2137db8714c')\"\n",
              "            title=\"Suggest charts\"\n",
              "            style=\"display:none;\">\n",
              "\n",
              "<svg xmlns=\"http://www.w3.org/2000/svg\" height=\"24px\"viewBox=\"0 0 24 24\"\n",
              "     width=\"24px\">\n",
              "    <g>\n",
              "        <path d=\"M19 3H5c-1.1 0-2 .9-2 2v14c0 1.1.9 2 2 2h14c1.1 0 2-.9 2-2V5c0-1.1-.9-2-2-2zM9 17H7v-7h2v7zm4 0h-2V7h2v10zm4 0h-2v-4h2v4z\"/>\n",
              "    </g>\n",
              "</svg>\n",
              "  </button>\n",
              "\n",
              "<style>\n",
              "  .colab-df-quickchart {\n",
              "      --bg-color: #E8F0FE;\n",
              "      --fill-color: #1967D2;\n",
              "      --hover-bg-color: #E2EBFA;\n",
              "      --hover-fill-color: #174EA6;\n",
              "      --disabled-fill-color: #AAA;\n",
              "      --disabled-bg-color: #DDD;\n",
              "  }\n",
              "\n",
              "  [theme=dark] .colab-df-quickchart {\n",
              "      --bg-color: #3B4455;\n",
              "      --fill-color: #D2E3FC;\n",
              "      --hover-bg-color: #434B5C;\n",
              "      --hover-fill-color: #FFFFFF;\n",
              "      --disabled-bg-color: #3B4455;\n",
              "      --disabled-fill-color: #666;\n",
              "  }\n",
              "\n",
              "  .colab-df-quickchart {\n",
              "    background-color: var(--bg-color);\n",
              "    border: none;\n",
              "    border-radius: 50%;\n",
              "    cursor: pointer;\n",
              "    display: none;\n",
              "    fill: var(--fill-color);\n",
              "    height: 32px;\n",
              "    padding: 0;\n",
              "    width: 32px;\n",
              "  }\n",
              "\n",
              "  .colab-df-quickchart:hover {\n",
              "    background-color: var(--hover-bg-color);\n",
              "    box-shadow: 0 1px 2px rgba(60, 64, 67, 0.3), 0 1px 3px 1px rgba(60, 64, 67, 0.15);\n",
              "    fill: var(--button-hover-fill-color);\n",
              "  }\n",
              "\n",
              "  .colab-df-quickchart-complete:disabled,\n",
              "  .colab-df-quickchart-complete:disabled:hover {\n",
              "    background-color: var(--disabled-bg-color);\n",
              "    fill: var(--disabled-fill-color);\n",
              "    box-shadow: none;\n",
              "  }\n",
              "\n",
              "  .colab-df-spinner {\n",
              "    border: 2px solid var(--fill-color);\n",
              "    border-color: transparent;\n",
              "    border-bottom-color: var(--fill-color);\n",
              "    animation:\n",
              "      spin 1s steps(1) infinite;\n",
              "  }\n",
              "\n",
              "  @keyframes spin {\n",
              "    0% {\n",
              "      border-color: transparent;\n",
              "      border-bottom-color: var(--fill-color);\n",
              "      border-left-color: var(--fill-color);\n",
              "    }\n",
              "    20% {\n",
              "      border-color: transparent;\n",
              "      border-left-color: var(--fill-color);\n",
              "      border-top-color: var(--fill-color);\n",
              "    }\n",
              "    30% {\n",
              "      border-color: transparent;\n",
              "      border-left-color: var(--fill-color);\n",
              "      border-top-color: var(--fill-color);\n",
              "      border-right-color: var(--fill-color);\n",
              "    }\n",
              "    40% {\n",
              "      border-color: transparent;\n",
              "      border-right-color: var(--fill-color);\n",
              "      border-top-color: var(--fill-color);\n",
              "    }\n",
              "    60% {\n",
              "      border-color: transparent;\n",
              "      border-right-color: var(--fill-color);\n",
              "    }\n",
              "    80% {\n",
              "      border-color: transparent;\n",
              "      border-right-color: var(--fill-color);\n",
              "      border-bottom-color: var(--fill-color);\n",
              "    }\n",
              "    90% {\n",
              "      border-color: transparent;\n",
              "      border-bottom-color: var(--fill-color);\n",
              "    }\n",
              "  }\n",
              "</style>\n",
              "\n",
              "  <script>\n",
              "    async function quickchart(key) {\n",
              "      const quickchartButtonEl =\n",
              "        document.querySelector('#' + key + ' button');\n",
              "      quickchartButtonEl.disabled = true;  // To prevent multiple clicks.\n",
              "      quickchartButtonEl.classList.add('colab-df-spinner');\n",
              "      try {\n",
              "        const charts = await google.colab.kernel.invokeFunction(\n",
              "            'suggestCharts', [key], {});\n",
              "      } catch (error) {\n",
              "        console.error('Error during call to suggestCharts:', error);\n",
              "      }\n",
              "      quickchartButtonEl.classList.remove('colab-df-spinner');\n",
              "      quickchartButtonEl.classList.add('colab-df-quickchart-complete');\n",
              "    }\n",
              "    (() => {\n",
              "      let quickchartButtonEl =\n",
              "        document.querySelector('#df-7a66541c-6ac5-4b6c-bf45-e2137db8714c button');\n",
              "      quickchartButtonEl.style.display =\n",
              "        google.colab.kernel.accessAllowed ? 'block' : 'none';\n",
              "    })();\n",
              "  </script>\n",
              "</div>\n",
              "\n",
              "    </div>\n",
              "  </div>\n"
            ],
            "application/vnd.google.colaboratory.intrinsic+json": {
              "type": "dataframe",
              "variable_name": "dados",
              "summary": "{\n  \"name\": \"dados\",\n  \"rows\": 11155,\n  \"fields\": [\n    {\n      \"column\": \"data\",\n      \"properties\": {\n        \"dtype\": \"date\",\n        \"min\": \"1987-05-20 00:00:00\",\n        \"max\": \"2024-04-22 00:00:00\",\n        \"num_unique_values\": 11155,\n        \"samples\": [\n          \"2011-08-23 00:00:00\",\n          \"1998-04-06 00:00:00\",\n          \"1995-07-26 00:00:00\"\n        ],\n        \"semantic_type\": \"\",\n        \"description\": \"\"\n      }\n    },\n    {\n      \"column\": \"preco\",\n      \"properties\": {\n        \"dtype\": \"number\",\n        \"std\": 33.22861607965258,\n        \"min\": 9.1,\n        \"max\": 143.95,\n        \"num_unique_values\": 5236,\n        \"samples\": [\n          85.85,\n          77.66,\n          117.36\n        ],\n        \"semantic_type\": \"\",\n        \"description\": \"\"\n      }\n    }\n  ]\n}"
            }
          },
          "metadata": {},
          "execution_count": 11
        }
      ],
      "source": [
        "dados['data_corrigida'] = pd.to_datetime(dados['data'])\n",
        "dados['preco_corrigido'] = pd.to_numeric(dados['preco'].apply(lambda x: x.replace(\",\", \".\")))\n",
        "dados.drop(columns=['data','preco'], axis=1, inplace=True)\n",
        "dados.rename(columns={'data_corrigida':'data','preco_corrigido':'preco'}, inplace=True)\n",
        "dados.head()"
      ]
    },
    {
      "cell_type": "code",
      "execution_count": null,
      "id": "24b45ed2-a66a-4328-8a85-d34f5d731261",
      "metadata": {
        "id": "24b45ed2-a66a-4328-8a85-d34f5d731261",
        "colab": {
          "base_uri": "https://localhost:8080/"
        },
        "outputId": "cb696fef-3bfe-4eeb-bd3b-45669d69e7ec"
      },
      "outputs": [
        {
          "output_type": "stream",
          "name": "stdout",
          "text": [
            "11155\n"
          ]
        }
      ],
      "source": [
        "teste = len(dados)\n",
        "print(teste)"
      ]
    },
    {
      "cell_type": "markdown",
      "id": "ec669b15-f122-49ca-b42f-f0faf89336c4",
      "metadata": {
        "id": "ec669b15-f122-49ca-b42f-f0faf89336c4"
      },
      "source": [
        "# Análise Exploratória dos Dados"
      ]
    },
    {
      "cell_type": "markdown",
      "id": "15dfd3c6-4dc2-4bc5-9c8b-16dee0ac7b45",
      "metadata": {
        "id": "15dfd3c6-4dc2-4bc5-9c8b-16dee0ac7b45"
      },
      "source": [
        "## Verificação do Intervalo Temporal\n",
        "\n"
      ]
    },
    {
      "cell_type": "markdown",
      "id": "44037dfa-5de7-4bd5-93b6-9daf3400f9c2",
      "metadata": {
        "id": "44037dfa-5de7-4bd5-93b6-9daf3400f9c2"
      },
      "source": [
        "<p style='font-size: 18px; line-height: 2; text-align: justify;'>\n",
        "    Como estamos trabalhando com uma base histórica de mais de 10 mil linhas, onde cada linha é um dia útil, iremos verificar qual o intervalo de tempo que nossa base possui."
      ]
    },
    {
      "cell_type": "code",
      "execution_count": null,
      "id": "ba4b98fe-3bd2-4334-8fb8-d929dec82d33",
      "metadata": {
        "id": "ba4b98fe-3bd2-4334-8fb8-d929dec82d33"
      },
      "outputs": [],
      "source": [
        "datamin = min(dados['data'])\n",
        "datamax = max(dados['data'])\n",
        "print(f'Data Mínima: {datamin}')\n",
        "print(f'Data Máxima: {datamax}')"
      ]
    },
    {
      "cell_type": "markdown",
      "id": "1d8f561b-eb2c-4e6a-8e2b-4444f092d779",
      "metadata": {
        "id": "1d8f561b-eb2c-4e6a-8e2b-4444f092d779"
      },
      "source": [
        "<p style='font-size: 18px; line-height: 2; text-align: justify;'>\n",
        "Um intervalo muito grande não é necessário para esta análise e para a criação do modelo. Podemos filtrar nosso DataFrame e trazer apenas os dados dos últimos 6 anos por exemplo."
      ]
    },
    {
      "cell_type": "code",
      "execution_count": null,
      "id": "bdfcc656-6109-4b61-8dbd-4195d0334068",
      "metadata": {
        "id": "bdfcc656-6109-4b61-8dbd-4195d0334068"
      },
      "outputs": [],
      "source": [
        "ultimoano = max(dados['data'].dt.year)\n",
        "primeiroano = ultimoano - 5\n",
        "print(f'Primeiro ano de dados: {primeiroano}')\n",
        "print(f'Último ano de dados: {ultimoano}')"
      ]
    },
    {
      "cell_type": "code",
      "execution_count": null,
      "id": "ae532b39-0812-4eb5-8216-b12039410ecf",
      "metadata": {
        "id": "ae532b39-0812-4eb5-8216-b12039410ecf"
      },
      "outputs": [],
      "source": [
        "dados = dados[dados['data'].dt.year >= primeiroano]\n",
        "dados.head()"
      ]
    },
    {
      "cell_type": "code",
      "execution_count": null,
      "id": "8d610c04-6177-4861-84b5-fd26e36a6552",
      "metadata": {
        "id": "8d610c04-6177-4861-84b5-fd26e36a6552"
      },
      "outputs": [],
      "source": [
        "dataminatual = min(dados['data'])\n",
        "datamaxatual = max(dados['data'])\n",
        "print(f'Data Mínima Atual: {dataminatual}')\n",
        "print(f'Data Máxima Atual: {datamaxatual}')"
      ]
    },
    {
      "cell_type": "markdown",
      "id": "64648c78-1b33-432e-bfe8-0a6b0a3125f0",
      "metadata": {
        "id": "64648c78-1b33-432e-bfe8-0a6b0a3125f0"
      },
      "source": [
        "## Estatísticas Descritivas"
      ]
    },
    {
      "cell_type": "markdown",
      "id": "8c979722-0359-4d85-be59-1e9b91a64744",
      "metadata": {
        "id": "8c979722-0359-4d85-be59-1e9b91a64744"
      },
      "source": [
        "<p style='font-size: 18px; line-height: 2; text-align: justify;'>\n",
        "    Agora vamos verificar as estatísticas descritivas da nossa base, assim teremos uma noção melhor de como os dados estão se comportando."
      ]
    },
    {
      "cell_type": "code",
      "execution_count": null,
      "id": "79e356fe-f6f4-48c6-91ec-024f0c5de562",
      "metadata": {
        "id": "79e356fe-f6f4-48c6-91ec-024f0c5de562"
      },
      "outputs": [],
      "source": [
        "dados[['preco']].describe().T"
      ]
    },
    {
      "cell_type": "markdown",
      "id": "f9796ab6-0aec-4c7d-aae8-c8e81841d80a",
      "metadata": {
        "id": "f9796ab6-0aec-4c7d-aae8-c8e81841d80a"
      },
      "source": [
        "## Verificação do Outliers"
      ]
    },
    {
      "cell_type": "code",
      "execution_count": null,
      "id": "6daaf316-08e1-49e3-a0a2-de6b11a6ae9b",
      "metadata": {
        "id": "6daaf316-08e1-49e3-a0a2-de6b11a6ae9b"
      },
      "outputs": [],
      "source": [
        "plt.figure(figsize=(15,2))\n",
        "ax = sns.boxplot(data=dados['preco'], orient='h')\n",
        "ax.set_title(f'Box-Plot - Preço Bruto do Petróleo Brent (FOB)', fontsize=14)\n",
        "ax.set_xlabel('Distribuição de Valores', fontsize=12)\n",
        "ax.set_ylabel('Preço (US$)', fontsize=12)\n",
        "plt.show()"
      ]
    },
    {
      "cell_type": "markdown",
      "id": "be8e4a09-3df6-4099-953f-ca19ccbd1405",
      "metadata": {
        "id": "be8e4a09-3df6-4099-953f-ca19ccbd1405"
      },
      "source": [
        "## Análise da Variação Mensal"
      ]
    },
    {
      "cell_type": "code",
      "execution_count": null,
      "id": "fec94b74-32bd-461a-a921-f1defc83c945",
      "metadata": {
        "id": "fec94b74-32bd-461a-a921-f1defc83c945"
      },
      "outputs": [],
      "source": [
        "# Dicionário com a tradução dos meses\n",
        "\n",
        "meses_traducao = {\n",
        "    'Jan': 'Jan',\n",
        "    'Feb': 'Fev',\n",
        "    'Mar': 'Mar',\n",
        "    'Apr': 'Abr',\n",
        "    'May': 'Mai',\n",
        "    'Jun': 'Jun',\n",
        "    'Jul': 'Jul',\n",
        "    'Aug': 'Ago',\n",
        "    'Sep': 'Set',\n",
        "    'Oct': 'Out',\n",
        "    'Nov': 'Nov',\n",
        "    'Dec': 'Dez'\n",
        "}"
      ]
    },
    {
      "cell_type": "code",
      "execution_count": null,
      "id": "fa567a8d-705a-4e10-8a66-a26aa60e3d26",
      "metadata": {
        "id": "fa567a8d-705a-4e10-8a66-a26aa60e3d26"
      },
      "outputs": [],
      "source": [
        "var_mensal = dados.copy()"
      ]
    },
    {
      "cell_type": "code",
      "execution_count": null,
      "id": "a155f906-c32c-47c1-8288-3acfe991ee00",
      "metadata": {
        "id": "a155f906-c32c-47c1-8288-3acfe991ee00"
      },
      "outputs": [],
      "source": [
        "var_mensal['mes'] = var_mensal['data'].dt.month\n",
        "var_mensal['ano'] = var_mensal['data'].dt.year\n",
        "var_mensal = var_mensal.sort_values(by=['data'], ascending=True).reset_index(drop=True)\n",
        "var_mensal.head()"
      ]
    },
    {
      "cell_type": "code",
      "execution_count": null,
      "id": "4e7eb2ab-cc5d-4406-a2f9-f319858731db",
      "metadata": {
        "id": "4e7eb2ab-cc5d-4406-a2f9-f319858731db"
      },
      "outputs": [],
      "source": [
        "# Lista de Anos\n",
        "anos = var_mensal['data'].dt.year.unique()\n",
        "anos"
      ]
    },
    {
      "cell_type": "code",
      "execution_count": null,
      "id": "86b29fd6-8815-4994-8949-03f3fa0c7289",
      "metadata": {
        "id": "86b29fd6-8815-4994-8949-03f3fa0c7289"
      },
      "outputs": [],
      "source": [
        "# Valores Mensais\n",
        "ultimo_dia = var_mensal.groupby(['mes', 'ano'])[['data']].max().reset_index()\n",
        "ultimo_dia = ultimo_dia.sort_values(by=['data'], ascending=True).reset_index(drop=True)\n",
        "ultimo_dia['chave'] = ultimo_dia['mes'].astype(str) + ultimo_dia['ano'].astype(str)\n",
        "ultimo_dia = pd.merge(ultimo_dia, var_mensal[['preco', 'data']], on='data')\n",
        "ultimo_dia['variacao_%'] = round(ultimo_dia['preco'].pct_change() * 100, 2)\n",
        "ultimo_dia['nome_mes'] = ultimo_dia['data'].apply(lambda x: x.strftime('%b')).map(meses_traducao)\n",
        "ultimo_dia"
      ]
    },
    {
      "cell_type": "code",
      "execution_count": null,
      "id": "54d986f2-8c10-4835-86b7-2da3e6cb073b",
      "metadata": {
        "id": "54d986f2-8c10-4835-86b7-2da3e6cb073b"
      },
      "outputs": [],
      "source": [
        "# Plot da variação mensal em cada ano\n",
        "for ano in anos[:-1]:\n",
        "    plt.figure(figsize=(15,4))\n",
        "    df_mensal = ultimo_dia[ultimo_dia['ano'] == ano]\n",
        "    maior_variacao = df_mensal['variacao_%'].max()\n",
        "    menor_variacao = df_mensal['variacao_%'].min()\n",
        "    ax = sns.barplot(data=df_mensal, x='nome_mes', y='variacao_%')\n",
        "    for bar in ax.patches:\n",
        "        if bar.get_height() == maior_variacao:\n",
        "            bar.set_color('steelblue')\n",
        "        elif bar.get_height() == menor_variacao:\n",
        "            bar.set_color('coral')\n",
        "        else:\n",
        "            bar.set_color('gray')\n",
        "\n",
        "    xtick_loc = ax.get_xticks()\n",
        "    xtick_labels = ax.get_xticklabels()\n",
        "\n",
        "    ytick_loc = ax.get_yticks()\n",
        "    ytick_labels = ax.get_yticklabels()\n",
        "\n",
        "    ax.set_xticks(ticks = xtick_loc, labels = xtick_labels, fontsize = 12)\n",
        "    ax.set_yticks(ticks = ytick_loc, labels = ytick_labels, fontsize=12)\n",
        "\n",
        "    ax.yaxis.set_major_formatter(ticker.StrMethodFormatter(\"{x:.0f}\"))\n",
        "\n",
        "    ax.set_xlabel('Mês', fontsize = 12)\n",
        "    ax.set_ylabel('Variação (%)', fontsize = 12)\n",
        "    ax.set_title(f'Variação Percentual Mensal em {ano} - Preço Bruto do Petróleo Brent (FOB)', fontsize = 18, horizontalalignment = \"center\")\n",
        "\n",
        "    plt.show()"
      ]
    },
    {
      "cell_type": "markdown",
      "id": "52d88c0a-5867-46b0-99a5-10aab2036240",
      "metadata": {
        "id": "52d88c0a-5867-46b0-99a5-10aab2036240"
      },
      "source": [
        "<ul style='font-size: 18px; line-height: 2; text-align: justify;'>\n",
        "<li>O Ano de 2020 teve a maior amplitude com variação máxima de 88.57% em Maio, e mínima de -71.06% em Março. Em 2020, em virtude da pandemia da Covid-19, os preços do marcador Brent registraram os menores valores. O isolamento social e a baixa da produção industrial impactaram negativamente a economia a nível mundial contendo a demanda por petróleo e diminuindo o preço do combustível.</li>\n",
        "<li>Países exportadores de petróleo como, México, Equador, Colômbia, Venezuela, Brasil e Argentina sentiram a queda do seu valor no mercado internacional.</li>\n",
        "<li>Em 2019, ano que anterior à pandemia, a variação percentual não foi maior que 10%. E é possível verificar que o impacto da pandemia ainda persiste uma vez que, em nenhum ano após 2020, a variação percentual ficou dentro da mesma amplitude que em 2019.</li>"
      ]
    },
    {
      "cell_type": "markdown",
      "id": "64634c88-0d7a-4623-8777-c2784bb7082e",
      "metadata": {
        "id": "64634c88-0d7a-4623-8777-c2784bb7082e"
      },
      "source": [
        "# Análise de Séries Temporais"
      ]
    },
    {
      "cell_type": "markdown",
      "id": "46a1cba2-8b0f-4eda-949a-6b57b5fe028c",
      "metadata": {
        "id": "46a1cba2-8b0f-4eda-949a-6b57b5fe028c"
      },
      "source": [
        "## O que é uma Série Temporal ?"
      ]
    },
    {
      "cell_type": "markdown",
      "id": "aabdbbf5-6a03-4d28-bf1a-884b0b26291c",
      "metadata": {
        "id": "aabdbbf5-6a03-4d28-bf1a-884b0b26291c"
      },
      "source": [
        "<p style='font-size: 18px; line-height: 2; text-align: justify;'>\n",
        "    Uma série temporal é um conjunto de observações que ocorrem ao longo do tempo.\n",
        "    \n",
        "<p style='font-size: 18px; line-height: 2; text-align: justify;'>\n",
        "    Dentro da análise das séries temporais, temos três principais componentes:\n",
        "    \n",
        "<ul style='font-size: 18px; line-height: 2; text-align: justify;'>  \n",
        "<li>Tendência: é a direção da série, ou seja, para onde o dado vai.</li>\n",
        "<li>Sazonalidade: é a ocorrência de um padrão identificado dentro da série temporal.</li>\n",
        "<li>Resíduo: é uma variação aleatória que não é possível de ser explicada por meio da tendência ou da sazonalidade, ou seja, os resíduos são a diferença entre a série original e o que foi explicado pela tendência e sazonalidade.</li>"
      ]
    },
    {
      "cell_type": "markdown",
      "id": "6ca8ff62-5b87-4e83-95ca-ee93346797cd",
      "metadata": {
        "id": "6ca8ff62-5b87-4e83-95ca-ee93346797cd"
      },
      "source": [
        "## Como Funciona a Previsão da Série Temporal ?"
      ]
    },
    {
      "cell_type": "markdown",
      "id": "d50fb065-fabc-4392-b50f-adad8b93e41d",
      "metadata": {
        "id": "d50fb065-fabc-4392-b50f-adad8b93e41d"
      },
      "source": [
        "<p style='font-size: 18px; line-height: 2; text-align: justify;'>\n",
        "    Os métodos de previsão para séries temporais buscam compreender os padrões e extrapolações dos dados passados para prever dados futuros caso esse comportamento se apresente novamente. Dessa forma, o modelo aprende a prever o futuro baseado no passado."
      ]
    },
    {
      "cell_type": "markdown",
      "id": "1ef523c2-4eb2-43cf-8586-e69c2bd43fde",
      "metadata": {
        "id": "1ef523c2-4eb2-43cf-8586-e69c2bd43fde"
      },
      "source": [
        "## Análise de Tendência, Sazonalidade e Ruído"
      ]
    },
    {
      "cell_type": "markdown",
      "id": "9266705b-7eff-44bf-807e-1f4801aaff92",
      "metadata": {
        "id": "9266705b-7eff-44bf-807e-1f4801aaff92"
      },
      "source": [
        "### Usar Datas como Índice"
      ]
    },
    {
      "cell_type": "markdown",
      "id": "e49a0f0f-fc72-4886-8157-d0b4caa8c4d1",
      "metadata": {
        "id": "e49a0f0f-fc72-4886-8157-d0b4caa8c4d1"
      },
      "source": [
        "<p style='font-size: 18px; line-height: 2; text-align: justify;'>\n",
        "    Para trabalharmos com séries temporais, nossos dados precisam estar previamente tratados e transformados de maneira que facilite a análise dos dados e criação do modelo, portanto usaremos a coluna de data como índice do DataFrame."
      ]
    },
    {
      "cell_type": "code",
      "execution_count": null,
      "id": "17b662ab-4da3-4a90-9044-8d94f9c834d2",
      "metadata": {
        "id": "17b662ab-4da3-4a90-9044-8d94f9c834d2"
      },
      "outputs": [],
      "source": [
        "dados_ts = dados[['preco', 'data']].set_index('data').sort_index()\n",
        "dados_ts.head()"
      ]
    },
    {
      "cell_type": "markdown",
      "id": "25dde434-1e0b-412f-a78c-c2d7a0da98d4",
      "metadata": {
        "id": "25dde434-1e0b-412f-a78c-c2d7a0da98d4"
      },
      "source": [
        "### Visualização dos Valores do Preço Bruto do Petróleo Brent (FOB)"
      ]
    },
    {
      "cell_type": "code",
      "execution_count": null,
      "id": "5bafc830-2abd-455e-a790-bc6b68f1a368",
      "metadata": {
        "id": "5bafc830-2abd-455e-a790-bc6b68f1a368"
      },
      "outputs": [],
      "source": [
        "plt.figure(figsize = (15,4))\n",
        "\n",
        "plt.plot(dados_ts.index, dados_ts.preco)\n",
        "plt.title('Preço Bruto do Petróleo Brent (FOB)', fontsize=18)\n",
        "plt.xlabel('Período', fontsize=12)\n",
        "plt.ylabel('Preço (US$)', fontsize=12)\n",
        "\n",
        "plt.show()"
      ]
    },
    {
      "cell_type": "markdown",
      "id": "6bb3ba38-0d26-4455-b76a-79e9a3ba7575",
      "metadata": {
        "id": "6bb3ba38-0d26-4455-b76a-79e9a3ba7575"
      },
      "source": [
        "### Decomposição da Série Temporal"
      ]
    },
    {
      "cell_type": "code",
      "execution_count": null,
      "id": "5175903e-be2e-4a3a-8ba3-9a45636fe104",
      "metadata": {
        "id": "5175903e-be2e-4a3a-8ba3-9a45636fe104"
      },
      "outputs": [],
      "source": [
        "# Aplicação da Decomposição\n",
        "resultados = seasonal_decompose(dados_ts, model='multiplicative', period=5)\n",
        "\n",
        "fig, (ax1, ax2, ax3, ax4) = plt.subplots(4, 1, figsize=(15, 10))\n",
        "\n",
        "# Plot da Série Original\n",
        "resultados.observed.plot(ax=ax1)\n",
        "ax1.set_title('Série Original', fontsize=18)\n",
        "ax1.set_xlabel('Período', fontsize = 12)\n",
        "\n",
        "# Plot da Tendência\n",
        "resultados.trend.plot(ax=ax2)\n",
        "ax2.set_title('Tendência', fontsize=18)\n",
        "ax2.set_xlabel('Período', fontsize = 12)\n",
        "\n",
        "# Plot da Sazonalidade\n",
        "resultados.seasonal.plot(ax=ax3)\n",
        "ax3.set_title('Sazonalidade', fontsize=18)\n",
        "ax3.set_xlabel('Período', fontsize = 12)\n",
        "\n",
        "# Plot do Resíduo\n",
        "resultados.resid.plot(ax=ax4)\n",
        "ax4.set_title('Resíduo', fontsize=18)\n",
        "ax4.set_xlabel('Período', fontsize = 12)\n",
        "\n",
        "plt.tight_layout()"
      ]
    },
    {
      "cell_type": "markdown",
      "id": "10519d35-61af-458a-a64b-0cec2d3dfa30",
      "metadata": {
        "id": "10519d35-61af-458a-a64b-0cec2d3dfa30"
      },
      "source": [
        "<ul style='font-size: 18px; line-height: 2; text-align: justify;'>  \n",
        "<li>É possível verificar que a tendência da série não caminha em uma única direção.</li>\n",
        "<li>A sazonalidade se torna um desafio para ser interpretada. Nossos dados são preços que variam diariamente, portanto encontrar um padrão que se repete ao longo do período é extremamente difícil.</li>\n",
        "<li>Ao analisarmos os resíduos, observamos um ruído muito expressivo no começo do ano de 2020. Em nossa última análise, a justificativa para este ruído é o impacto da pandemia no preço do barril de petróleo, que teve variações positivas e negativas altíssimas em um curto período de tempo</li>"
      ]
    },
    {
      "cell_type": "markdown",
      "id": "597df7e4-587e-4253-833f-b05fb1072718",
      "metadata": {
        "id": "597df7e4-587e-4253-833f-b05fb1072718"
      },
      "source": [
        "# Construção do Modelo"
      ]
    },
    {
      "cell_type": "markdown",
      "id": "dbdcccfc-28a2-4d96-8cf4-fd09de23ab61",
      "metadata": {
        "id": "dbdcccfc-28a2-4d96-8cf4-fd09de23ab61"
      },
      "source": [
        "<p style='font-size: 18px; line-height: 2; text-align: justify;'>\n",
        "    Agora partiremos para a construção dos modelos. Nosso objetivo é escolher um modelo que será utilizado para realizar as previsões diárias, e ser publicado por meio de uma aplicação web com o Streamlit. Testatemos os seguintes modelos:\n",
        "    \n",
        "<ul style='font-size: 18px; line-height: 2; text-align: justify;'>  \n",
        "<li>Modelo ARIMA</li>\n",
        "<li>Modelo Gradiente Boosting</li>"
      ]
    },
    {
      "cell_type": "markdown",
      "id": "be0cd310-ff95-4afe-b226-53e88e78f6cf",
      "metadata": {
        "id": "be0cd310-ff95-4afe-b226-53e88e78f6cf"
      },
      "source": [
        "## Análise Inicial da Estacionaridade"
      ]
    },
    {
      "cell_type": "markdown",
      "id": "5b5c7da0-3b6c-4078-9df3-c8ef475da817",
      "metadata": {
        "id": "5b5c7da0-3b6c-4078-9df3-c8ef475da817"
      },
      "source": [
        "### O que é Estacionaridade"
      ]
    },
    {
      "cell_type": "markdown",
      "id": "9122b267-1cae-43ae-b78c-d42da13283e4",
      "metadata": {
        "id": "9122b267-1cae-43ae-b78c-d42da13283e4"
      },
      "source": [
        "<p style='font-size: 18px; line-height: 2; text-align: justify;'>\n",
        "    Alguns algoritmos que trabalham com previsões de séries temporais partem da premissa de que a série é estacionária. Isso significa que alguns períodos da série possuem a mesma média, ou seja, quando olhamos a estacionaridade, não importa a tendência ou a sazonalidade, a média continua a mesma. Entretando, séries estacionárias não performam bem com previsões de longo prazo."
      ]
    },
    {
      "cell_type": "markdown",
      "id": "cf67cc38-05e4-42ea-b8cf-412ed5fc3b03",
      "metadata": {
        "id": "cf67cc38-05e4-42ea-b8cf-412ed5fc3b03"
      },
      "source": [
        "### Teste de Dickey-Fuller"
      ]
    },
    {
      "cell_type": "markdown",
      "id": "975f16ce-7ad5-4724-94da-e2fb259abaf5",
      "metadata": {
        "id": "975f16ce-7ad5-4724-94da-e2fb259abaf5"
      },
      "source": [
        "<p style='font-size: 18px; line-height: 2; text-align: justify;'>\n",
        "    Um dos testes mais utilizados para verificar a estacionaridade de uma série temporal é o teste de Dickey-Fuller Aumentado ou ADF. Esse teste parte das seguintes hipóteses:\n",
        "    \n",
        "<ul style='font-size: 18px; line-height: 2; text-align: justify;'>  \n",
        "<li>Hipótese Nula (H0): Diz que a série não é estacionária.</li>\n",
        "<li>Hipótese Alternativa (H1): Diz que a série é estacionária.</li>"
      ]
    },
    {
      "cell_type": "markdown",
      "id": "465e24ed-dbb1-4172-8c6a-5f6811a72c37",
      "metadata": {
        "id": "465e24ed-dbb1-4172-8c6a-5f6811a72c37"
      },
      "source": [
        "<p style='font-size: 18px; line-height: 2; text-align: justify;'>\n",
        "    A partir do resultado do \"valor p\" temos que, quando o \"valor p\" for menor que um determinado nível de significância nós rejeitamos a hipótese nula, sugerindo que a série temporal é estacionária.\n",
        "    \n",
        "<p style='font-size: 18px; line-height: 2; text-align: justify;'>\n",
        "    Vamos realizar um teste inicial apenas para comprovar uma das hipóteses. Ao julgar pelo gráfico da decomposição, nossa série não parece ser estacionária."
      ]
    },
    {
      "cell_type": "code",
      "execution_count": null,
      "id": "68485509-25c0-4bbc-8bf0-5314df820533",
      "metadata": {
        "id": "68485509-25c0-4bbc-8bf0-5314df820533"
      },
      "outputs": [],
      "source": [
        "adf = dados_ts['preco'].values\n",
        "\n",
        "# Instanciando o Teste de Dickey-Fuller Aumentado\n",
        "result = adfuller(adf)\n",
        "\n",
        "print('-----------Teste ADF Inicial-----------')\n",
        "print(f'Teste Estatístico: {result[0]}')\n",
        "print(f'P-Valor: {result[1]}')\n",
        "print(f'Valores Críticos:')\n",
        "\n",
        "for key, value in result[4].items():\n",
        "    print(f'\\t{key}: {value}')"
      ]
    },
    {
      "cell_type": "markdown",
      "id": "7e9f8902-d739-454d-8bc5-df162a9d154d",
      "metadata": {
        "id": "7e9f8902-d739-454d-8bc5-df162a9d154d"
      },
      "source": [
        "<p style='font-size: 18px; line-height: 2; text-align: justify;'>\n",
        "    Considerando um intervalo de significância de 0.05 (5%), como o valor p está acima deste intervalo, podemos afirmar inicialmente que nossa série não é estacionária."
      ]
    },
    {
      "cell_type": "markdown",
      "id": "72559b52-1dd5-44b3-b078-5471c1a4607a",
      "metadata": {
        "id": "72559b52-1dd5-44b3-b078-5471c1a4607a"
      },
      "source": [
        "## Modelo ARIMA"
      ]
    },
    {
      "cell_type": "markdown",
      "id": "779cf7b0-17a4-43af-adbb-e13dc336dc69",
      "metadata": {
        "id": "779cf7b0-17a4-43af-adbb-e13dc336dc69"
      },
      "source": [
        "### Como Funciona o Modelo ARIMA ?"
      ]
    },
    {
      "cell_type": "markdown",
      "id": "cf9455da-86a7-4e09-981c-fa169b8d3b58",
      "metadata": {
        "id": "cf9455da-86a7-4e09-981c-fa169b8d3b58"
      },
      "source": [
        "<p style='font-size: 18px; line-height: 2; text-align: justify;'>\n",
        "    O modelo ARIMA tem como premissa o uso da média móvel integrada auto-regressiva para descrever a autocorrelação nos dados. A parte auto-regressora irá olhar para o passado e achar a correlação futura, a parte integrada representa quantas vezes a série original foi diferenciada, e a média móvel deve estar próxima de um valor constante. Para utilizar o modelo ARIMA a série temporal necessariamente deve ser estacionária."
      ]
    },
    {
      "cell_type": "markdown",
      "id": "bbe8b22c-94fe-47c7-b647-2e3ee6ca3294",
      "metadata": {
        "id": "bbe8b22c-94fe-47c7-b647-2e3ee6ca3294"
      },
      "source": [
        "### Quais são os Hiperparâmetros do Modelo ARIMA ?"
      ]
    },
    {
      "cell_type": "markdown",
      "id": "d29d0b1c-a147-4810-bff8-a4dc4a692532",
      "metadata": {
        "id": "d29d0b1c-a147-4810-bff8-a4dc4a692532"
      },
      "source": [
        "<ul style='font-size: 18px; line-height: 2; text-align: justify;'>  \n",
        "<li>P - Número de lags que devem ser incluídos no modelo.</li>\n",
        "<li>D - Número de vezes que as observações serão diferenciadas.</li>\n",
        "<li>Q - Ordem de média móvel, tamanho de uma janela (lag) de média móvel.</li>\n",
        "    \n",
        "<p style='font-size: 18px; line-height: 2; text-align: justify;'>\n",
        "    O número de lags (P) são os valores auto correlacionados que serão usados para prever os valores futuros. A diferenciação (D) é utilizada para deixar a série estacionária. E, a ordem da média móvel (Q) é utilizada para calcular o erro."
      ]
    },
    {
      "cell_type": "markdown",
      "id": "f5d8f760-3f55-47d6-b3a2-0d4db9e4a7c7",
      "metadata": {
        "id": "f5d8f760-3f55-47d6-b3a2-0d4db9e4a7c7"
      },
      "source": [
        "### Transformando a Série Original em Estacionária"
      ]
    },
    {
      "cell_type": "markdown",
      "id": "afc70fb6-0fbc-442d-bc3e-05b5d106a637",
      "metadata": {
        "id": "afc70fb6-0fbc-442d-bc3e-05b5d106a637"
      },
      "source": [
        "<p style='font-size: 18px; line-height: 2; text-align: justify;'>\n",
        "    Verificamos anteriormente por meio do teste ADF que nossa série original não é estacionária. Portanto, para utilizarmos o ARIMA devemos transformar a série original em uma série estacionária."
      ]
    },
    {
      "cell_type": "code",
      "execution_count": null,
      "id": "5058d11b-f96d-4074-8e71-e9253faf3d87",
      "metadata": {
        "id": "5058d11b-f96d-4074-8e71-e9253faf3d87"
      },
      "outputs": [],
      "source": [
        "# Análise da Média Móvel\n",
        "\n",
        "media_movel = dados_ts.rolling(12).mean()\n",
        "\n",
        "# Aplicação do Log\n",
        "\n",
        "dados_ts_log = np.log(dados_ts)\n",
        "\n",
        "ma_log = dados_ts_log.rolling(12).mean()\n",
        "\n",
        "# Remoção da Média Móvel\n",
        "\n",
        "dados_ts_s = (dados_ts_log - ma_log).dropna() # tiramos os nulos para poder subtrair sem problemas\n",
        "\n",
        "ma_s = dados_ts_s.rolling(12).mean()\n",
        "\n",
        "std_s = dados_ts_s.rolling(12).std()\n",
        "\n",
        "# Análise por Diferenciação\n",
        "\n",
        "dados_ts_diff = dados_ts_s.diff().dropna() # diferença entre o valor anterior e o atual\n",
        "\n",
        "ma_diff = dados_ts_diff.rolling(12).mean()\n",
        "\n",
        "std_diff = dados_ts_diff.rolling(12).std()\n",
        "\n",
        "plt.figure(figsize=(15,4))\n",
        "\n",
        "serie_original_s = plt.plot(dados_ts_diff, label='Série Diferenciada')\n",
        "media_movel_s = plt.plot(ma_diff, label='Média Móvel')\n",
        "desvio_padrao_s = plt.plot(std_diff, label='Desvio Padrão')\n",
        "\n",
        "plt.title('Série Diferenciada x Média Móvel x Desvio Padrão - Diferenciação', fontsize=18)\n",
        "plt.xlabel('Período', fontsize=12)\n",
        "plt.ylabel('Preço (US$)', fontsize=12)\n",
        "\n",
        "plt.legend(loc='best')\n",
        "\n",
        "plt.show()"
      ]
    },
    {
      "cell_type": "code",
      "execution_count": null,
      "id": "e83b0e94-9676-4997-a9ad-6f7d93046f70",
      "metadata": {
        "id": "e83b0e94-9676-4997-a9ad-6f7d93046f70"
      },
      "outputs": [],
      "source": [
        "# Aplicando o teste ADF para a diferenciação\n",
        "\n",
        "adf_diff = dados_ts_diff['preco'].values\n",
        "\n",
        "result = adfuller(adf_diff)\n",
        "\n",
        "print('-----------Teste ADF Diferenciação-----------')\n",
        "print(f'Teste Estatístico: {result[0]}')\n",
        "print(f'P-Valor: {result[1]}')\n",
        "print(f'Valores Críticos:')\n",
        "\n",
        "for key, value in result[4].items():\n",
        "    print(f'\\t{key}: {value}')"
      ]
    },
    {
      "cell_type": "markdown",
      "id": "51823655-7023-45ad-bea2-26094f46e79f",
      "metadata": {
        "id": "51823655-7023-45ad-bea2-26094f46e79f"
      },
      "source": [
        "<p style='font-size: 18px; line-height: 2; text-align: justify;'>\n",
        "    Este valor p menor que 5% já nos garante que a hipótese alternativa (H1) de que a séria é estacionária é aceitável."
      ]
    },
    {
      "cell_type": "markdown",
      "id": "06815513-45de-4597-ae3b-0200169bcc83",
      "metadata": {
        "id": "06815513-45de-4597-ae3b-0200169bcc83"
      },
      "source": [
        "### Analisando o ACF e PACF"
      ]
    },
    {
      "cell_type": "markdown",
      "id": "121e14b5-4092-4a7b-b7e5-862c8f8b1507",
      "metadata": {
        "id": "121e14b5-4092-4a7b-b7e5-862c8f8b1507"
      },
      "source": [
        "<p style='font-size: 18px; line-height: 2; text-align: justify;'>\n",
        "    Para desenvolver o modelo precisamos analisar a Autocorrelação (ACF), que correlaciona em apenas uma variável, ou seja, em uma mesma linha do tempo ela observa a correlação direta e/ou indireta entre dois pontos. E a Autocorrelação Parcial (PACF), que só lida com a correlação direta entre dois pontos.\n",
        "    \n",
        "<p style='font-size: 18px; line-height: 2; text-align: justify;'>\n",
        "    Agora trabalharemos com os limites críticos calculados anteriormente.\n",
        "    \n",
        "<p style='font-size: 18px; line-height: 2; text-align: justify;'>\n",
        "    Utilizaremos a equação 1.96 / sqrt(N - d), onde N = número de pontos do dataframe e d = número de vezes que diferenciamos o dataframe. Em nosso caso nós diferenciamos o dataframe apenas uma vez."
      ]
    },
    {
      "cell_type": "code",
      "execution_count": null,
      "id": "7c3f5ec1-05c5-472a-b52c-bde8ca5df8df",
      "metadata": {
        "id": "7c3f5ec1-05c5-472a-b52c-bde8ca5df8df"
      },
      "outputs": [],
      "source": [
        "sm.graphics.tsa.plot_acf(dados_ts_diff, lags=50)\n",
        "\n",
        "plt.title('Autocorrelação (ACF)', fontsize=18)\n",
        "\n",
        "plt.show()"
      ]
    },
    {
      "cell_type": "markdown",
      "id": "43c38390-5fac-4b07-9c43-802868d84a78",
      "metadata": {
        "id": "43c38390-5fac-4b07-9c43-802868d84a78"
      },
      "source": [
        "<p style='font-size: 18px; line-height: 2; text-align: justify;'>\n",
        "    No ACF, as observações fora da área que representa o intervalo de confiança, são consideradas correlacionadas estatísticamente. Portanto, para uma janela de tempo de 50 dias, todos as observações se correlacionam estatísticamente."
      ]
    },
    {
      "cell_type": "code",
      "execution_count": null,
      "id": "f57a2b8c-a1c3-4ee9-9ec7-306a0a82e431",
      "metadata": {
        "id": "f57a2b8c-a1c3-4ee9-9ec7-306a0a82e431"
      },
      "outputs": [],
      "source": [
        "sm.graphics.tsa.plot_pacf(dados_ts_diff, lags=50)\n",
        "\n",
        "plt.title('Autocorrelação Parcial (PACF)', fontsize=18)\n",
        "\n",
        "plt.show()"
      ]
    },
    {
      "cell_type": "markdown",
      "id": "a753ec0f-d6e9-45ee-a2a5-54d1408f89f9",
      "metadata": {
        "id": "a753ec0f-d6e9-45ee-a2a5-54d1408f89f9"
      },
      "source": [
        "<p style='font-size: 18px; line-height: 2; text-align: justify;'>\n",
        "    Para o PACF, a análise geralmente está relacionada com a identificação do atraso específico que contribui para a autocorrelação em um determinado ponto, que em nosso caso, foi um lag."
      ]
    },
    {
      "cell_type": "markdown",
      "id": "b789bd20-e07d-48e9-af4e-884c19f2c72e",
      "metadata": {
        "id": "b789bd20-e07d-48e9-af4e-884c19f2c72e"
      },
      "source": [
        "### Aplicação do Modelo ARIMA"
      ]
    },
    {
      "cell_type": "code",
      "execution_count": null,
      "id": "bbb6075b-1423-44c5-b3cd-1543bd8a16b6",
      "metadata": {
        "id": "bbb6075b-1423-44c5-b3cd-1543bd8a16b6"
      },
      "outputs": [],
      "source": [
        "# Instanciando o Modelo\n",
        "arima = ARIMA(dados_ts_diff, order=(1,1,1))\n",
        "\n",
        "# Fit e Predict do Modelo\n",
        "resultados = arima.fit()\n",
        "previsao = resultados.predict()\n",
        "\n",
        "# Cálculo do MAPE\n",
        "previsao.index = dados_ts_diff.index # Ajuste do índice\n",
        "valores_previstos = dados_ts_log['preco'].iloc[0] + np.cumsum(previsao) # Invertendo a diferenciação\n",
        "mape = mean_absolute_error(dados_ts_diff['preco'], valores_previstos) * 100\n",
        "print(f\"MAPE: {mape:.2f}%\")\n",
        "\n",
        "# Plot Comparando Valor Real e Previsão\n",
        "plt.figure(figsize=(15,4))\n",
        "plt.plot(dados_ts_diff)\n",
        "plt.plot(previsao)\n",
        "plt.legend(labels=['Valor Real','Previsão'], loc='best')\n",
        "plt.title('Comparação Valor Real x Previsão - ARIMA', fontsize=18)\n",
        "plt.xlabel('Período', fontsize=12)\n",
        "plt.ylabel('Valores', fontsize=12)\n",
        "plt.show()"
      ]
    },
    {
      "cell_type": "markdown",
      "id": "6feb5b6a-3040-47aa-a38f-260ff4c3d0bf",
      "metadata": {
        "id": "6feb5b6a-3040-47aa-a38f-260ff4c3d0bf"
      },
      "source": [
        "<p style='font-size: 18px; line-height: 2; text-align: justify;'>\n",
        "    O MAPE (Mean Absolute Percentage Error) é o percentual do erro médio absoluto. Quanto mais perto de zero, melhor é o modelo. O modelo não performou bem, pelo gráfico podemos ver o quão distante as previsões estão dos valores reais."
      ]
    },
    {
      "cell_type": "markdown",
      "id": "c09e27af-c482-434c-815b-b6ab5f4323dc",
      "metadata": {
        "id": "c09e27af-c482-434c-815b-b6ab5f4323dc"
      },
      "source": [
        "## Modelo Gradient Boosting"
      ]
    },
    {
      "cell_type": "markdown",
      "id": "ed7d8910-151c-494f-b6e4-1a29dbbf45fc",
      "metadata": {
        "id": "ed7d8910-151c-494f-b6e4-1a29dbbf45fc"
      },
      "source": [
        "### Como Funciona o Modelo Gradient Boosting ?"
      ]
    },
    {
      "cell_type": "markdown",
      "id": "90b322b1-32ea-4a8a-bfca-5a1b9efadcb5",
      "metadata": {
        "id": "90b322b1-32ea-4a8a-bfca-5a1b9efadcb5"
      },
      "source": [
        "<p style='font-size: 18px; line-height: 2; text-align: justify;'>\n",
        "    O algoritmo Gradient Boosting é uma técnica dentro do grupo de classificadores Ensemble que utiliza a combinação dos resultados de preditores mais \"fracos\" para produzir um modelo mais robusto e de melhor grau de acurácia. Cada classificador \"fraco\" é treinado sequencialmente com um conjunto de dados, fazendo com que um modelo de base dependa do outro. O objetivo de treinar modelos sequencialmente é a redução do erro. Ao ser treinado, cada modelo produz um erro inferior ao modelo treinado anteriormente, quanto menor for esse erro, maior a contribuição do modelo."
      ]
    },
    {
      "cell_type": "markdown",
      "id": "450cd44c-bcb8-46fc-a26b-6412f8cbb9d4",
      "metadata": {
        "id": "450cd44c-bcb8-46fc-a26b-6412f8cbb9d4"
      },
      "source": [
        "### Quais são os Hiperparâmetros do Modelo Gradient Boosting ?"
      ]
    },
    {
      "cell_type": "markdown",
      "id": "227581b9-62c7-4e84-aff0-9eb45a3b0010",
      "metadata": {
        "id": "227581b9-62c7-4e84-aff0-9eb45a3b0010"
      },
      "source": [
        "<ul style='font-size: 18px; line-height: 2; text-align: justify;'>  \n",
        "<li>learning_rate: Taxa de aprendizado. Determina a importância de cada árvore de decisão utilizada pelos modelos \"fracos\". Determinado no intervalo de 0.0 a 1.</li>\n",
        "<li>n_estimators: Número de etapas (árvores de decisão) que serão utilizadas no modelos \"fracos\"</li>\n",
        "<li>max_depth: Profundidade da árvore de decisão</li>"
      ]
    },
    {
      "cell_type": "markdown",
      "id": "750da562-520f-49a6-abb4-fe9ef2b7a11b",
      "metadata": {
        "id": "750da562-520f-49a6-abb4-fe9ef2b7a11b"
      },
      "source": [
        "### Aplicação do Modelo Gradient Boosting"
      ]
    },
    {
      "cell_type": "code",
      "execution_count": null,
      "id": "9b5c0210-f57f-495f-a9d1-096f9e2d0cd9",
      "metadata": {
        "id": "9b5c0210-f57f-495f-a9d1-096f9e2d0cd9"
      },
      "outputs": [],
      "source": [
        "dados_gb = dados.copy()\n",
        "dados_gb = dados_gb.sort_values(by='data', ascending=True).reset_index(drop=True)\n",
        "dados_gb.head()"
      ]
    },
    {
      "cell_type": "markdown",
      "id": "01c5d911-3c93-45db-9477-bab3288a33b8",
      "metadata": {
        "id": "01c5d911-3c93-45db-9477-bab3288a33b8"
      },
      "source": [
        "#### Criação do Lag Feature"
      ]
    },
    {
      "cell_type": "markdown",
      "id": "941f5dd4-2dba-41d7-8acb-d2951e5fa1df",
      "metadata": {
        "id": "941f5dd4-2dba-41d7-8acb-d2951e5fa1df"
      },
      "source": [
        "<p style='font-size: 18px; line-height: 2; text-align: justify;'>\n",
        "    Quando trabalhamos com séries temporais, queremos estudar a dependência entre a variável alvo e seus valores em momentos no passado, para isso criamos os lags features. Os lags features auxiliam na determinação da dependência serial, entendendo se uma observação depende e pode ser predita a partir de uma observação anterior. Importante ressaltar que a escolha do lag está na unidade temporal da série, se estamos tratando de uma série temporal diária, o lag 1 será uma diferença de um dia entre as observações.\n",
        "\n",
        "<p style='font-size: 18px; line-height: 2; text-align: justify;'>\n",
        "    Para determinar o número de lags podemos utilizar a função de autocorrelação (ACF). Anteriormente plotamos os gráficos de autocorrelação e vimos que o lag de um dia é um bom valor para ser adotado."
      ]
    },
    {
      "cell_type": "code",
      "execution_count": null,
      "id": "b00ce8b4-4f07-480a-a753-5a8f109ba522",
      "metadata": {
        "id": "b00ce8b4-4f07-480a-a753-5a8f109ba522"
      },
      "outputs": [],
      "source": [
        "dados_gb['preco_lag'] = dados_gb['preco'].shift(1)\n",
        "dados_gb = dados_gb.dropna()\n",
        "dados_gb.head()"
      ]
    },
    {
      "cell_type": "markdown",
      "id": "e98d2f5a-2d3e-4513-b5d8-f24bb3bcbf0b",
      "metadata": {
        "id": "e98d2f5a-2d3e-4513-b5d8-f24bb3bcbf0b"
      },
      "source": [
        "#### Separação em Treino e Teste"
      ]
    },
    {
      "cell_type": "code",
      "execution_count": null,
      "id": "2686f4e3-eb25-4f00-aa5c-4b7c9035201e",
      "metadata": {
        "id": "2686f4e3-eb25-4f00-aa5c-4b7c9035201e"
      },
      "outputs": [],
      "source": [
        "# Entrada - Dados atradasos em 1 dia\n",
        "X = dados_gb[['preco_lag']].values\n",
        "\n",
        "# Saída - Dados atuais\n",
        "y = dados_gb[['preco']].values\n",
        "\n",
        "# Separação em treino e teste\n",
        "X_train, X_test, y_train, y_test = train_test_split(X, y, test_size=0.3, shuffle=False, random_state=42)"
      ]
    },
    {
      "cell_type": "markdown",
      "id": "3befc803-34c9-4a36-b7e0-95e2b67ff24f",
      "metadata": {
        "id": "3befc803-34c9-4a36-b7e0-95e2b67ff24f"
      },
      "source": [
        "#### Criação do Modelo"
      ]
    },
    {
      "cell_type": "code",
      "execution_count": null,
      "id": "30930246-a9e3-4c46-8048-005747cb9410",
      "metadata": {
        "id": "30930246-a9e3-4c46-8048-005747cb9410"
      },
      "outputs": [],
      "source": [
        "# # Instanciando o Modelo\n",
        "reg_gb = GradientBoostingRegressor(n_estimators=100, learning_rate=0.1, max_depth=5, random_state=42, loss='squared_error')\n",
        "\n",
        "# Fit e Predict do Modelo\n",
        "reg_gb.fit(X_train, y_train)\n",
        "previsoes = reg_gb.predict(X_test)\n",
        "\n",
        "# Cálculo do MSE e do MAE\n",
        "MSE = mean_squared_error(y_test, previsoes)\n",
        "MAE = mean_absolute_error(y_test, previsoes)\n",
        "print(f\"MSE: {MSE:.2f}%\")\n",
        "print(f\"MAE: {MAE:.2f}%\")\n",
        "\n",
        "# Plot Comparando Valor Real e Previsão\n",
        "plt.figure(figsize=(15,4))\n",
        "plt.plot(dados_gb['data'].iloc[-len(y_test):], y_test)\n",
        "plt.plot(dados_gb['data'].iloc[-len(previsoes):], previsoes)\n",
        "plt.legend(labels=['Valor Real','Previsão'], loc='best')\n",
        "plt.title('Comparação Valor Real x Previsão - Gradient Boosting', fontsize=18)\n",
        "plt.xlabel('Período', fontsize=12)\n",
        "plt.ylabel('Valores', fontsize=12)\n",
        "plt.show()"
      ]
    },
    {
      "cell_type": "markdown",
      "id": "da3faae2-f064-4aec-9506-9b1285ba36b3",
      "metadata": {
        "id": "da3faae2-f064-4aec-9506-9b1285ba36b3"
      },
      "source": [
        "<p style='font-size: 18px; line-height: 2; text-align: justify;'>\n",
        "    Em comparação ao modelo ARIMA, o modelo Gradient Boosting performou muito melhor. Portanto, será o escolhido para gerar as previsões."
      ]
    },
    {
      "cell_type": "markdown",
      "id": "3a4dee58-7cce-4841-8d6f-ef9708af6fc0",
      "metadata": {
        "id": "3a4dee58-7cce-4841-8d6f-ef9708af6fc0"
      },
      "source": [
        "# Base para Aplicação no Streamlit"
      ]
    },
    {
      "cell_type": "markdown",
      "id": "66ab2ab7-ad08-44c6-93b5-21ef2552303a",
      "metadata": {
        "id": "66ab2ab7-ad08-44c6-93b5-21ef2552303a"
      },
      "source": [
        "<p style='font-size: 18px; line-height: 2; text-align: justify;'>\n",
        "    Iremos criar uma base de dados tratada para facilitar a aplicação no Streamlit."
      ]
    },
    {
      "cell_type": "code",
      "execution_count": null,
      "id": "b9cbb5a2-0a83-47e4-b50b-7abcaff09dd0",
      "metadata": {
        "id": "b9cbb5a2-0a83-47e4-b50b-7abcaff09dd0"
      },
      "outputs": [],
      "source": [
        "df_streamlit = dados.copy()\n",
        "df_streamlit['mes'] = df_streamlit['data'].dt.month\n",
        "df_streamlit['ano'] = df_streamlit['data'].dt.year\n",
        "df_streamlit['nome_mes'] = df_streamlit['data'].apply(lambda x: x.strftime('%b')).map(meses_traducao)\n",
        "df_streamlit = df_streamlit.sort_values(by='data', ascending=True)\n",
        "df_streamlit['variacao_%'] = round(df_streamlit['preco'].pct_change() * 100, 2)\n",
        "df_streamlit.head()"
      ]
    },
    {
      "cell_type": "code",
      "execution_count": null,
      "id": "871408bf-db7a-45b2-8810-4863f5369201",
      "metadata": {
        "id": "871408bf-db7a-45b2-8810-4863f5369201"
      },
      "outputs": [],
      "source": [
        "#df_streamlit.to_csv('df_streamlit.csv', index=False)"
      ]
    },
    {
      "cell_type": "markdown",
      "id": "8265b434-b874-473f-920a-07caa889cea9",
      "metadata": {
        "id": "8265b434-b874-473f-920a-07caa889cea9"
      },
      "source": [
        "# Referências"
      ]
    },
    {
      "cell_type": "markdown",
      "id": "6212cda9-ca76-4fd1-bb8f-e543bb395006",
      "metadata": {
        "id": "6212cda9-ca76-4fd1-bb8f-e543bb395006"
      },
      "source": [
        "<p style='font-size: 18px; line-height: 2; text-align: justify;'>\n",
        "INSTITUTO DE PESQUISA ECONÔMICA APLICADA. Quem somos. Disponível em: https://www.ipea.gov.br/portal/coluna-3/institucional-sep/quem-somos. Acesso em: 01 de maio de 2024.\n",
        "\n",
        "<p style='font-size: 18px; line-height: 2; text-align: justify;'>\n",
        "BRASIL DE FATO. Pandemia da covid-19 gera maior crise do mercado mundial de petróleo em 30 anos. Disponível em: https://www.brasildefato.com.br/2020/04/08/pandemia-da-covid-19-gera-maior-crise-do-mercado-mundial-de-petroleo-em-30-anos. Acesso em: 02 de maio de 2024.\n",
        "\n",
        "<p style='font-size: 18px; line-height: 2; text-align: justify;'>\n",
        "SEGOVIA SPADINI, Allan. \"Séries temporais e suas aplicações\": Atualizado em 22/01/2021. Disponível em: https://www.alura.com.br/artigos/series-temporais-e-suas-aplicacoes. Acesso em: 15 de janeiro de 2024.\n",
        "    \n",
        "<p style='font-size: 18px; line-height: 2; text-align: justify;'>\n",
        "FERNANDES CUNHA, Ana Raquel. \"Predicting stock values with machine learning and deep learning algorithms\". Disponível em: https://medium.com/@anaraquel.fiap/predicting-stock-values-with-machine-learning-and-deep-learning-algorithms-5eb028892888. Acesso em: 24 de janeiro de 2024.\n",
        "\n",
        "<p style='font-size: 18px; line-height: 2; text-align: justify;'>\n",
        "SILVA, Jonhy. Uma breve introdução ao algoritmo de Machine Learning Gradient Boosting utilizando a biblioteca Scikit-Learn. Atualizado em: 22 de junho de 2020. Disponível em: https://medium.com/equals-lab/uma-breve-introdu%C3%A7%C3%A3o-ao-algoritmo-de-machine-learning-gradient-boosting-utilizando-a-biblioteca-311285783099. Acesso em: 04 de maio de 2024.\n",
        "\n",
        "<p style='font-size: 18px; line-height: 2; text-align: justify;'>\n",
        "FILIPE, Kauã. Introdução à Feature Engineering para Previsão com Séries Temporais. Atualizado em: 09 de outubro de 2022. Disponível em: https://medium.com/turing-talks/introdu%C3%A7%C3%A3o-%C3%A0-feature-engineering-para-previs%C3%A3o-com-s%C3%A9ries-temporais-bf8bd3d0397d#:~:text=Utilizamos%20lag%20time%20features%20quando,de%20a%C3%A7%C3%B5es%20de%20uma%20empresa. Acesso em: 04 de maio de 2024."
      ]
    },
    {
      "cell_type": "code",
      "execution_count": null,
      "id": "f8b1493b-48d9-4da3-9b74-33c612934d88",
      "metadata": {
        "id": "f8b1493b-48d9-4da3-9b74-33c612934d88"
      },
      "outputs": [],
      "source": []
    }
  ],
  "metadata": {
    "kernelspec": {
      "display_name": "Python 3 (ipykernel)",
      "language": "python",
      "name": "python3"
    },
    "language_info": {
      "codemirror_mode": {
        "name": "ipython",
        "version": 3
      },
      "file_extension": ".py",
      "mimetype": "text/x-python",
      "name": "python",
      "nbconvert_exporter": "python",
      "pygments_lexer": "ipython3",
      "version": "3.9.19"
    },
    "colab": {
      "provenance": [],
      "toc_visible": true
    }
  },
  "nbformat": 4,
  "nbformat_minor": 5
}